{
 "cells": [
  {
   "cell_type": "markdown",
   "metadata": {},
   "source": [
    "# Adding context to your prompts - Retrieval Augmented Generation (RAG)"
   ]
  },
  {
   "cell_type": "markdown",
   "metadata": {},
   "source": [
    "## Install OpenAI .NET SDK & other NuGet packages"
   ]
  },
  {
   "cell_type": "code",
   "execution_count": 1,
   "metadata": {
    "dotnet_interactive": {
     "language": "csharp"
    },
    "polyglot_notebook": {
     "kernelName": "csharp"
    },
    "vscode": {
     "languageId": "polyglot-notebook"
    }
   },
   "outputs": [
    {
     "data": {
      "text/html": [
       "<div><div></div><div></div><div><strong>Installed Packages</strong><ul><li><span>Azure.AI.OpenAI, 1.0.0-beta.6</span></li><li><span>Microsoft.DotNet.Interactive, 1.0.0-beta.23313.2</span></li></ul></div></div>"
      ]
     },
     "metadata": {},
     "output_type": "display_data"
    }
   ],
   "source": [
    "#r \"nuget: Azure.AI.OpenAI, 1.0.0-beta.6\"\n",
    "#r \"nuget: Microsoft.DotNet.Interactive, 1.0.0-beta.23313.2\""
   ]
  },
  {
   "cell_type": "code",
   "execution_count": 2,
   "metadata": {
    "dotnet_interactive": {
     "language": "csharp"
    },
    "polyglot_notebook": {
     "kernelName": "csharp"
    },
    "vscode": {
     "languageId": "polyglot-notebook"
    }
   },
   "outputs": [],
   "source": [
    "using System.Collections.Generic;\n",
    "using System.IO;\n",
    "using System.Linq;\n",
    "using System.Text.Json;\n",
    "using Azure.AI.OpenAI;\n",
    "using Microsoft.DotNet.Interactive;"
   ]
  },
  {
   "cell_type": "markdown",
   "metadata": {},
   "source": [
    "## Get Azure OpenAI Service credentials"
   ]
  },
  {
   "cell_type": "code",
   "execution_count": 3,
   "metadata": {
    "dotnet_interactive": {
     "language": "csharp"
    },
    "polyglot_notebook": {
     "kernelName": "csharp"
    },
    "vscode": {
     "languageId": "polyglot-notebook"
    }
   },
   "outputs": [],
   "source": [
    "var endpoint = Environment.GetEnvironmentVariable(\"AOAI_ENDPOINT\");\n",
    "var key = Environment.GetEnvironmentVariable(\"AOAI_KEY\");\n",
    "var deploymentId = Environment.GetEnvironmentVariable(\"AOAI_DEPLOYMENTID\");\n",
    "var embeddingDeploymentId = Environment.GetEnvironmentVariable(\"AOAI_EMBEDDINGS_DEPLOYMENTID\");"
   ]
  },
  {
   "cell_type": "markdown",
   "metadata": {},
   "source": [
    "## Configure OpenAI client"
   ]
  },
  {
   "cell_type": "code",
   "execution_count": 4,
   "metadata": {
    "dotnet_interactive": {
     "language": "csharp"
    },
    "polyglot_notebook": {
     "kernelName": "csharp"
    },
    "vscode": {
     "languageId": "polyglot-notebook"
    }
   },
   "outputs": [],
   "source": [
    "var client = new OpenAIClient(new Uri(endpoint), new Azure.AzureKeyCredential(key));"
   ]
  },
  {
   "cell_type": "markdown",
   "metadata": {},
   "source": [
    "## Define system prompt"
   ]
  },
  {
   "cell_type": "code",
   "execution_count": 5,
   "metadata": {
    "dotnet_interactive": {
     "language": "csharp"
    },
    "polyglot_notebook": {
     "kernelName": "csharp"
    },
    "vscode": {
     "languageId": "polyglot-notebook"
    }
   },
   "outputs": [],
   "source": [
    "var systemPrompt = \n",
    "    \"\"\"\n",
    "    You are an AI Assistant that helps user answer questions about their data. \n",
    "    \n",
    "    You have access to articles to help you answer questions. \n",
    "    \n",
    "    Use only the contents from these documents to answer questions. \n",
    "    \"\"\";"
   ]
  },
  {
   "cell_type": "markdown",
   "metadata": {},
   "source": [
    "## Define Data Objects"
   ]
  },
  {
   "cell_type": "code",
   "execution_count": 6,
   "metadata": {
    "dotnet_interactive": {
     "language": "csharp"
    },
    "polyglot_notebook": {
     "kernelName": "csharp"
    },
    "vscode": {
     "languageId": "polyglot-notebook"
    }
   },
   "outputs": [],
   "source": [
    "class Metadata\n",
    "{\n",
    "    public string Title {get;set;}\n",
    "    public string Text  {get;set;}\n",
    "    public long WikiId  {get;set;}\n",
    "    public int ParagraphId  {get;set;}\n",
    "}\n",
    "\n",
    "\n",
    "class Document\n",
    "{\n",
    "    public float[] Embedding {get;set;}\n",
    "    public Metadata Metadata {get;set;}\n",
    "}"
   ]
  },
  {
   "cell_type": "markdown",
   "metadata": {},
   "source": [
    "## Utility Functions"
   ]
  },
  {
   "cell_type": "code",
   "execution_count": 7,
   "metadata": {
    "dotnet_interactive": {
     "language": "csharp"
    },
    "polyglot_notebook": {
     "kernelName": "csharp"
    },
    "vscode": {
     "languageId": "polyglot-notebook"
    }
   },
   "outputs": [],
   "source": [
    "string FormatMessage(ChatMessage m)\n",
    "{\n",
    "    if(m.Role == ChatRole.System)\n",
    "        return $\"System: {m.Content}\";\n",
    "    else if(m.Role == ChatRole.User)\n",
    "        return $\"User: {m.Content}\";\n",
    "    else if(m.Role == ChatRole.Assistant)\n",
    "        return $\"Assistant: {m.Content}\";\n",
    "    else\n",
    "        return m.Content;\n",
    "}\n",
    "\n",
    "var RenderUserPrompt = (List<ChatMessage> history, string[] documents, string query) => \n",
    "    {\n",
    "        var chatMessages = \n",
    "            history\n",
    "                .Select(FormatMessage)\n",
    "                .Select(x => $\"{x}\\n\")\n",
    "                .ToArray();\n",
    "\n",
    "        var sources = String.Join('\\n', documents);\n",
    "\n",
    "        var template = \n",
    "            $\"\"\"\n",
    "            ## Chat History\n",
    "\n",
    "            {String.Join('\\n',chatMessages)}\n",
    "\n",
    "            ## Sources\n",
    "\n",
    "            {sources}\n",
    "\n",
    "            ## Query\n",
    "            {query}\n",
    "            \"\"\";\n",
    "\n",
    "        return template;\n",
    "    };\n",
    "\n",
    "var CosineSimilarity = (float[] vectorA, float[] vectorB) => \n",
    "{\n",
    "        if (vectorA == null || vectorB == null)\n",
    "            throw new ArgumentNullException(\"Input vectors cannot be null.\");\n",
    "\n",
    "        if (vectorA.Length != vectorB.Length)\n",
    "            throw new ArgumentException(\"Input vectors must have the same length.\");\n",
    "\n",
    "        double dotProduct = 0;\n",
    "        double normA = 0;\n",
    "        double normB = 0;\n",
    "\n",
    "        for (int i = 0; i < vectorA.Length; i++)\n",
    "        {\n",
    "            dotProduct += vectorA[i] * vectorB[i];\n",
    "            normA += vectorA[i] * vectorA[i];\n",
    "            normB += vectorB[i] * vectorB[i];\n",
    "        }\n",
    "\n",
    "        if (normA == 0 || normB == 0)\n",
    "            throw new ArgumentException(\"Input vectors cannot be zero vectors.\");\n",
    "\n",
    "        return dotProduct / (Math.Sqrt(normA) * Math.Sqrt(normB));\n",
    "};\n",
    "\n",
    "var GetTopKDocuments = (Document[] sources, float[] userQueryEmbedding, int k) => \n",
    "{\n",
    "    return sources\n",
    "        .Select(document => \n",
    "            {\n",
    "                var similarity = CosineSimilarity(document.Embedding, userQueryEmbedding);\n",
    "                return (similarity, document);\n",
    "            })\n",
    "        .OrderByDescending(x => x.Item1)\n",
    "        .Take(k)\n",
    "        .Select(x => x.Item2)\n",
    "        .ToArray();\n",
    "};"
   ]
  },
  {
   "cell_type": "markdown",
   "metadata": {},
   "source": [
    "## Load data"
   ]
  },
  {
   "cell_type": "code",
   "execution_count": 8,
   "metadata": {
    "dotnet_interactive": {
     "language": "csharp"
    },
    "polyglot_notebook": {
     "kernelName": "csharp"
    },
    "vscode": {
     "languageId": "polyglot-notebook"
    }
   },
   "outputs": [],
   "source": [
    "var data = File.ReadAllText(\"../Data/embeddings.json\");\n",
    "var sources = JsonSerializer.Deserialize<Document[]>(data);"
   ]
  },
  {
   "cell_type": "markdown",
   "metadata": {},
   "source": [
    "## Display first data entry"
   ]
  },
  {
   "cell_type": "code",
   "execution_count": 9,
   "metadata": {
    "dotnet_interactive": {
     "language": "csharp"
    },
    "polyglot_notebook": {
     "kernelName": "csharp"
    },
    "vscode": {
     "languageId": "polyglot-notebook"
    }
   },
   "outputs": [
    {
     "data": {
      "text/html": [
       "<details open=\"open\" class=\"dni-treeview\"><summary><span class=\"dni-code-hint\"><code>Submission#6+Document</code></span></summary><div><table><thead><tr></tr></thead><tbody><tr><td>Embedding</td><td><div class=\"dni-plaintext\"><pre>[ 0.0150072165, 0.009965043, 0.010806452, -0.031345617, -0.00073584024, -0.010448539, -0.0044425125, -0.015120241, -0.016526775, 0.001671829, 0.02639763, 0.014253716, -0.034686133, -0.01564769, -0.046415623, 0.0055319485, 0.018397968, 0.007905475, 0.007930592, -0.023685029 ... (1516 more) ]</pre></div></td></tr><tr><td>Metadata</td><td><details class=\"dni-treeview\"><summary><span class=\"dni-code-hint\"><code>Submission#6+Metadata</code></span></summary><div><table><thead><tr></tr></thead><tbody><tr><td>Title</td><td>24-hour clock</td></tr><tr><td>Text</td><td>The 24-hour clock is a way of telling the time in which the day runs from midnight to midnight and is divided into 24 hours, numbered from 0 to 23. It does not use a.m. or p.m. This system is also referred to (only in the US and the English speaking parts of Canada) as military time or (only in the United Kingdom and now very rarely) as continental time. In some parts of the world, it is called railway time. Also, the international standard notation of time (ISO 8601) is based on this format.</td></tr><tr><td>WikiId</td><td><div class=\"dni-plaintext\"><pre>9985</pre></div></td></tr><tr><td>ParagraphId</td><td><div class=\"dni-plaintext\"><pre>0</pre></div></td></tr></tbody></table></div></details></td></tr></tbody></table></div></details><style>\r\n",
       ".dni-code-hint {\r\n",
       "    font-style: italic;\r\n",
       "    overflow: hidden;\r\n",
       "    white-space: nowrap;\r\n",
       "}\r\n",
       ".dni-treeview {\r\n",
       "    white-space: nowrap;\r\n",
       "}\r\n",
       ".dni-treeview td {\r\n",
       "    vertical-align: top;\r\n",
       "    text-align: start;\r\n",
       "}\r\n",
       "details.dni-treeview {\r\n",
       "    padding-left: 1em;\r\n",
       "}\r\n",
       "table td {\r\n",
       "    text-align: start;\r\n",
       "}\r\n",
       "table tr { \r\n",
       "    vertical-align: top; \r\n",
       "    margin: 0em 0px;\r\n",
       "}\r\n",
       "table tr td pre \r\n",
       "{ \r\n",
       "    vertical-align: top !important; \r\n",
       "    margin: 0em 0px !important;\r\n",
       "} \r\n",
       "table th {\r\n",
       "    text-align: start;\r\n",
       "}\r\n",
       "</style>"
      ]
     },
     "metadata": {},
     "output_type": "display_data"
    }
   ],
   "source": [
    "sources.First()"
   ]
  },
  {
   "cell_type": "markdown",
   "metadata": {},
   "source": [
    "## Configure Chat Completion options"
   ]
  },
  {
   "cell_type": "code",
   "execution_count": 10,
   "metadata": {
    "dotnet_interactive": {
     "language": "csharp"
    },
    "polyglot_notebook": {
     "kernelName": "csharp"
    },
    "vscode": {
     "languageId": "polyglot-notebook"
    }
   },
   "outputs": [],
   "source": [
    "var options = new ChatCompletionsOptions\n",
    "{\n",
    "    MaxTokens=400,\n",
    "    Temperature=1f,\n",
    "    FrequencyPenalty=0.0f,\n",
    "    PresencePenalty=0.0f,\n",
    "    NucleusSamplingFactor = 0.95f // Top P\n",
    "};"
   ]
  },
  {
   "cell_type": "markdown",
   "metadata": {},
   "source": [
    "## Initialize chat history"
   ]
  },
  {
   "cell_type": "code",
   "execution_count": 11,
   "metadata": {
    "dotnet_interactive": {
     "language": "csharp"
    },
    "polyglot_notebook": {
     "kernelName": "csharp"
    },
    "vscode": {
     "languageId": "polyglot-notebook"
    }
   },
   "outputs": [],
   "source": [
    "List<ChatMessage> messages = new List<ChatMessage>();\n",
    "var systemMessage = new ChatMessage(ChatRole.System, systemPrompt);\n",
    "messages.Add(systemMessage);\n",
    "options.Messages.Add(systemMessage);"
   ]
  },
  {
   "cell_type": "markdown",
   "metadata": {},
   "source": [
    "## Start chat"
   ]
  },
  {
   "cell_type": "code",
   "execution_count": 12,
   "metadata": {
    "dotnet_interactive": {
     "language": "csharp"
    },
    "polyglot_notebook": {
     "kernelName": "csharp"
    },
    "vscode": {
     "languageId": "polyglot-notebook"
    }
   },
   "outputs": [],
   "source": [
    "var chatting = true;"
   ]
  },
  {
   "cell_type": "code",
   "execution_count": 13,
   "metadata": {
    "dotnet_interactive": {
     "language": "csharp"
    },
    "polyglot_notebook": {
     "kernelName": "csharp"
    },
    "vscode": {
     "languageId": "polyglot-notebook"
    }
   },
   "outputs": [
    {
     "name": "stdout",
     "output_type": "stream",
     "text": [
      "System: You are an AI Assistant that helps user answer questions about their data. \n",
      "\n",
      "You have access to articles to help you answer questions. \n",
      "\n",
      "Use only the contents from these documents to answer questions. \n",
      "## Chat History\n",
      "\n",
      "System: You are an AI Assistant that helps user answer questions about their data. \n",
      "\n",
      "You have access to articles to help you answer questions. \n",
      "\n",
      "Use only the contents from these documents to answer questions. \n",
      "\n",
      "User: How many goals did Cristiano Ronaldo score in 2014?\n",
      "\n",
      "\n",
      "## Sources\n",
      "\n",
      "In the 2013-14 season, Ronaldo broke the record for most goals in one Champions League season by scoring his 17th goal with a penalty in extra time in the final against Atl?tico Madrid that Real Madrid won 4?1. The previous record was 14 goals, set by Messi in the 2011-12 season.\n",
      "In the 2014-15 season, Ronaldo set a new personal record by scoring 61 goals in all competitions. This achievement helped him win his second Ballon d'Or. He scored five goals in one match for the first time in his career in a 9-1 win vs. Granada on 5 April 2015. He became Real Madrid's all-time top scorer when he scored 5 goals against RCD Espanyol in a 6-0 away win on 12 September 2015. This brought his total goal tally to 230 goals in 203 games. The previous record holder was Raul.\n",
      "In the 2018 World Cup held in Russia, Ronaldo scored 4 goals. In Portugal's first group game, he scored a hat trick against Spain in a 3-3 draw. After that he scored the winning goal against Morocco. In the last group game, he missed a penalty in a 1-1 draw against Iran. Portugal qualified to the knockout stages by finishing second in the group. They were eliminated by Uruguay 2-1. Ronaldo became one of only four players to score at 4 World Cups. He has played at 4 of them: 2006, 2010, 2014, and 2018.\n",
      "\n",
      "## Query\n",
      "How many goals did Cristiano Ronaldo score in 2014?\n",
      "\n",
      "## Response\n",
      "Assistant: Cristiano Ronaldo scored 17 goals in the 2013-2014 Champions League season. There is no mention of how many goals he scored in 2014 alone in the given sources.\n",
      "\n",
      "-----\n",
      "\n",
      "## Chat History\n",
      "\n",
      "System: You are an AI Assistant that helps user answer questions about their data. \n",
      "\n",
      "You have access to articles to help you answer questions. \n",
      "\n",
      "Use only the contents from these documents to answer questions. \n",
      "\n",
      "User: How many goals did Cristiano Ronaldo score in 2014?\n",
      "\n",
      "Assistant: Cristiano Ronaldo scored 17 goals in the 2013-2014 Champions League season. There is no mention of how many goals he scored in 2014 alone in the given sources.\n",
      "\n",
      "User: Was this a personal record for him?\n",
      "\n",
      "\n",
      "## Sources\n",
      "\n",
      "In the 2014-15 season, Ronaldo set a new personal record by scoring 61 goals in all competitions. This achievement helped him win his second Ballon d'Or. He scored five goals in one match for the first time in his career in a 9-1 win vs. Granada on 5 April 2015. He became Real Madrid's all-time top scorer when he scored 5 goals against RCD Espanyol in a 6-0 away win on 12 September 2015. This brought his total goal tally to 230 goals in 203 games. The previous record holder was Raul.\n",
      "On 2 November 2011, Ronaldo scored both goals in a 2-0 Champions League group stage win against Olympique Lyon. The second goal was his 100th goal for Real Madrid. He achieved this in just 105 matches. He scored his 100th La Liga goal for his club in just 92 appearances in a 5-1 win against Real Sociedad on 24 March 2012.\n",
      "In the 2013-14 season, Ronaldo broke the record for most goals in one Champions League season by scoring his 17th goal with a penalty in extra time in the final against Atl?tico Madrid that Real Madrid won 4?1. The previous record was 14 goals, set by Messi in the 2011-12 season.\n",
      "\n",
      "## Query\n",
      "Was this a personal record for him?\n",
      "\n",
      "## Response\n",
      "Assistant: No, the record of 17 goals in the 2013-2014 Champions League season was not a personal record for Cristiano Ronaldo. He set a personal record in the 2014-15 season by scoring 61 goals in all competitions.\n",
      "\n",
      "-----\n",
      "\n",
      "## Chat History\n",
      "\n",
      "System: You are an AI Assistant that helps user answer questions about their data. \n",
      "\n",
      "You have access to articles to help you answer questions. \n",
      "\n",
      "Use only the contents from these documents to answer questions. \n",
      "\n",
      "User: How many goals did Cristiano Ronaldo score in 2014?\n",
      "\n",
      "Assistant: Cristiano Ronaldo scored 17 goals in the 2013-2014 Champions League season. There is no mention of how many goals he scored in 2014 alone in the given sources.\n",
      "\n",
      "User: Was this a personal record for him?\n",
      "\n",
      "Assistant: No, the record of 17 goals in the 2013-2014 Champions League season was not a personal record for Cristiano Ronaldo. He set a personal record in the 2014-15 season by scoring 61 goals in all competitions.\n",
      "\n",
      "User: Who held the record before him?\n",
      "\n",
      "\n",
      "## Sources\n",
      "\n",
      "In the 2014-15 season, Ronaldo set a new personal record by scoring 61 goals in all competitions. This achievement helped him win his second Ballon d'Or. He scored five goals in one match for the first time in his career in a 9-1 win vs. Granada on 5 April 2015. He became Real Madrid's all-time top scorer when he scored 5 goals against RCD Espanyol in a 6-0 away win on 12 September 2015. This brought his total goal tally to 230 goals in 203 games. The previous record holder was Raul.\n",
      "He currently Plays for Manchester United and his shirt number is 7. He is now considered the greatest of all time with the most goals of 800+ in his all time of carrer.\n",
      "He won the first FIFA Puskas Award in 2009. The Puskas Award is given to whoever scores the best goal of that year. The goal was a 40-yard strike into the top-left corner against FC Porto on 15 April 2009 in the Champions League quarter finals. That goal was the only goal of the game. It was also an important goal because it sent United to the semi-finals. In the semi-final against Arsenal, Ronaldo scored two goals. One of them was a free kick from 40 yards out. His goals helped Man United qualify to the final, where they lost to Barcelona 2-0.\n",
      "\n",
      "## Query\n",
      "Who held the record before him?\n",
      "\n",
      "## Response\n",
      "Assistant: Before Cristiano Ronaldo, the record for most goals in one Champions League season was held by Lionel Messi, who scored 14 goals in the 2011-12 season.\n",
      "\n",
      "-----\n",
      "\n",
      "## Chat History\n",
      "\n",
      "System: You are an AI Assistant that helps user answer questions about their data. \n",
      "\n",
      "You have access to articles to help you answer questions. \n",
      "\n",
      "Use only the contents from these documents to answer questions. \n",
      "\n",
      "User: How many goals did Cristiano Ronaldo score in 2014?\n",
      "\n",
      "Assistant: Cristiano Ronaldo scored 17 goals in the 2013-2014 Champions League season. There is no mention of how many goals he scored in 2014 alone in the given sources.\n",
      "\n",
      "User: Was this a personal record for him?\n",
      "\n",
      "Assistant: No, the record of 17 goals in the 2013-2014 Champions League season was not a personal record for Cristiano Ronaldo. He set a personal record in the 2014-15 season by scoring 61 goals in all competitions.\n",
      "\n",
      "User: Who held the record before him?\n",
      "\n",
      "Assistant: Before Cristiano Ronaldo, the record for most goals in one Champions League season was held by Lionel Messi, who scored 14 goals in the 2011-12 season.\n",
      "\n",
      "User: When was the US Declaration of Independence signed?\n",
      "\n",
      "\n",
      "## Sources\n",
      "\n",
      "On 2 November, Spanish courts issued an European Arrest Warrant against Puigdemont and four other cabinet members to Belgian authorities. Two days later, they turned themselves in to the Belgian police. Hours later, he was released.\n",
      "However, the US military prefers not to say 24:00 - they do not like to have two names for the same thing, so they always say \"23:59\", which is one minute before midnight.\n",
      "On 10 July 2018, He joined Juventus of Italy and signed a 4 year contract worth 112 Million Euros. The transfer was the highest paid for a player over 30 years old. People called it \"the deal of the century\".\n",
      "\n",
      "## Query\n",
      "When was the US Declaration of Independence signed?\n",
      "\n",
      "## Response\n",
      "Assistant: The given sources do not provide information on the date when the US Declaration of Independence was signed.\n",
      "\n",
      "-----\n",
      "\n"
     ]
    }
   ],
   "source": [
    "Console.WriteLine($\"{FormatMessage(systemMessage)}\");\n",
    "\n",
    "while(chatting)\n",
    "{\n",
    "    //Get User input\n",
    "    var userInput = await Kernel.GetInputAsync(\"Please enter your prompt. Press 'q' to quit.\");\n",
    "    if(userInput.ToLowerInvariant() == \"q\")\n",
    "    {\n",
    "        chatting = false;\n",
    "        break;    \n",
    "    }\n",
    "    \n",
    "    // Query relevant documents\n",
    "    var embeddingResponse = await client.GetEmbeddingsAsync(embeddingDeploymentId, new EmbeddingsOptions(userInput));\n",
    "    var inputEmbedding = embeddingResponse.Value.Data[0].Embedding.ToArray();\n",
    "    var docs = \n",
    "        GetTopKDocuments(sources, inputEmbedding, 3)\n",
    "            .Select(doc => doc.Metadata.Text)\n",
    "            .ToArray(); \n",
    "\n",
    "    // Generate User Prompt\n",
    "    messages.Add(new ChatMessage(ChatRole.User, userInput));\n",
    "    var query = RenderUserPrompt(messages, docs, userInput);\n",
    "    var userMessage = new ChatMessage(ChatRole.User, query);\n",
    "    options.Messages.Add(userMessage);\n",
    "    Console.WriteLine(query);\n",
    "    \n",
    "    // Generate response\n",
    "    var assistantResponse = await client.GetChatCompletionsAsync(deploymentId, options);\n",
    "    var response = assistantResponse.Value.Choices[0].Message.Content;\n",
    "    var assistantMessage = new ChatMessage(ChatRole.Assistant, response);\n",
    "    Console.WriteLine($\"\\n## Response\\n{FormatMessage(assistantMessage)}\\n\");\n",
    "    messages.Add(assistantMessage);\n",
    "    options.Messages.Add(assistantMessage);\n",
    "    Console.WriteLine(\"-----\");\n",
    "    Console.WriteLine(\"\");\n",
    "};\n",
    "\n",
    "messages.Clear();\n",
    "options.Messages.Clear();"
   ]
  }
 ],
 "metadata": {
  "language_info": {
   "name": "csharp"
  },
  "orig_nbformat": 4
 },
 "nbformat": 4,
 "nbformat_minor": 2
}
