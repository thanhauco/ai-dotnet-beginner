{
 "cells": [
  {
   "cell_type": "markdown",
   "metadata": {},
   "source": [
    "# Introduction to Automated Machine Learning (AutoML)\n",
    "\n",
    "This sample shows how you can use AutoML to automate the process of training custom ML models.\n",
    "\n",
    "In this case, we want to train an ML model that automatically applies a label to GitHub issues."
   ]
  },
  {
   "cell_type": "markdown",
   "metadata": {},
   "source": [
    "## Install NuGet packages"
   ]
  },
  {
   "cell_type": "code",
   "execution_count": 20,
   "metadata": {
    "dotnet_interactive": {
     "language": "csharp"
    },
    "polyglot_notebook": {
     "kernelName": "csharp"
    },
    "vscode": {
     "languageId": "polyglot-notebook"
    }
   },
   "outputs": [
    {
     "data": {
      "text/html": [
       "<div><div></div><div></div><div><strong>Installed Packages</strong><ul><li><span>Microsoft.ML.AutoML, 0.21.0-preview.23266.6</span></li></ul></div></div>"
      ]
     },
     "metadata": {},
     "output_type": "display_data"
    }
   ],
   "source": [
    "#r \"nuget: Microsoft.ML.AutoML, 0.21.0-preview.23266.6\""
   ]
  },
  {
   "cell_type": "markdown",
   "metadata": {},
   "source": [
    "## Add using statements"
   ]
  },
  {
   "cell_type": "code",
   "execution_count": 21,
   "metadata": {
    "dotnet_interactive": {
     "language": "csharp"
    },
    "polyglot_notebook": {
     "kernelName": "csharp"
    },
    "vscode": {
     "languageId": "polyglot-notebook"
    }
   },
   "outputs": [],
   "source": [
    "using System.Threading;\n",
    "using System.IO;\n",
    "using System.Linq;\n",
    "using Microsoft.ML;\n",
    "using Microsoft.ML.Data;\n",
    "using Microsoft.ML.AutoML;"
   ]
  },
  {
   "cell_type": "markdown",
   "metadata": {},
   "source": [
    "## Initialize MLContext"
   ]
  },
  {
   "cell_type": "code",
   "execution_count": 22,
   "metadata": {
    "dotnet_interactive": {
     "language": "csharp"
    },
    "polyglot_notebook": {
     "kernelName": "csharp"
    },
    "vscode": {
     "languageId": "polyglot-notebook"
    }
   },
   "outputs": [],
   "source": [
    "// Initialize MLContext\n",
    "MLContext ctx = new MLContext();"
   ]
  },
  {
   "cell_type": "markdown",
   "metadata": {},
   "source": [
    "## Use AutoML to infer column information"
   ]
  },
  {
   "cell_type": "code",
   "execution_count": 23,
   "metadata": {
    "dotnet_interactive": {
     "language": "csharp"
    },
    "polyglot_notebook": {
     "kernelName": "csharp"
    },
    "vscode": {
     "languageId": "polyglot-notebook"
    }
   },
   "outputs": [],
   "source": [
    "// Define data path\n",
    "var dataPath = Path.GetFullPath(@\"../Data/issues_train.tsv\");\n",
    "\n",
    "// Infer column information\n",
    "ColumnInferenceResults columnInference =\n",
    "    ctx.Auto().InferColumns(dataPath, separatorChar: '\\t', labelColumnName: \"Area\", groupColumns: false);"
   ]
  },
  {
   "cell_type": "code",
   "execution_count": 24,
   "metadata": {
    "dotnet_interactive": {
     "language": "csharp"
    },
    "polyglot_notebook": {
     "kernelName": "csharp"
    },
    "vscode": {
     "languageId": "polyglot-notebook"
    }
   },
   "outputs": [
    {
     "data": {
      "text/html": [
       "<details open=\"open\" class=\"dni-treeview\"><summary><span class=\"dni-code-hint\"><code>Microsoft.ML.AutoML.ColumnInferenceResults</code></span></summary><div><table><thead><tr></tr></thead><tbody><tr><td>TextLoaderOptions</td><td><details class=\"dni-treeview\"><summary><span class=\"dni-code-hint\"><code>Microsoft.ML.Data.TextLoader+Options</code></span></summary><div><table><thead><tr></tr></thead><tbody><tr><td>AllowQuoting</td><td><div class=\"dni-plaintext\"><pre>True</pre></div></td></tr><tr><td>AllowSparse</td><td><div class=\"dni-plaintext\"><pre>False</pre></div></td></tr><tr><td>InputSize</td><td><div class=\"dni-plaintext\"><pre>&lt;null&gt;</pre></div></td></tr><tr><td>Separators</td><td><div class=\"dni-plaintext\"><pre>[ \t ]</pre></div></td></tr><tr><td>DecimalMarker</td><td><div class=\"dni-plaintext\"><pre>.</pre></div></td></tr><tr><td>Columns</td><td><table><thead><tr><th><i>index</i></th><th>value</th></tr></thead><tbody><tr><td>0</td><td><details class=\"dni-treeview\"><summary><span class=\"dni-code-hint\"><code>Microsoft.ML.Data.TextLoader+Column</code></span></summary><div><table><thead><tr></tr></thead><tbody><tr><td>DataKind</td><td><span>Single</span></td></tr><tr><td>Name</td><td>ID</td></tr><tr><td>Source</td><td><table><thead><tr><th><i>index</i></th><th>value</th></tr></thead><tbody><tr><td>0</td><td><details class=\"dni-treeview\"><summary><span class=\"dni-code-hint\"><code>Microsoft.ML.Data.TextLoader+Range</code></span></summary><div><table><thead><tr></tr></thead><tbody><tr><td>Min</td><td>0</td></tr><tr><td>Max</td><td>0</td></tr><tr><td>AutoEnd</td><td>False</td></tr><tr><td>VariableEnd</td><td>False</td></tr><tr><td>AllOther</td><td>False</td></tr><tr><td>ForceVector</td><td>False</td></tr></tbody></table></div></details></td></tr></tbody></table></td></tr><tr><td>KeyCount</td><td><div class=\"dni-plaintext\"><pre>&lt;null&gt;</pre></div></td></tr></tbody></table></div></details></td></tr><tr><td>1</td><td><details class=\"dni-treeview\"><summary><span class=\"dni-code-hint\"><code>Microsoft.ML.Data.TextLoader+Column</code></span></summary><div><table><thead><tr></tr></thead><tbody><tr><td>DataKind</td><td><span>String</span></td></tr><tr><td>Name</td><td>Area</td></tr><tr><td>Source</td><td><table><thead><tr><th><i>index</i></th><th>value</th></tr></thead><tbody><tr><td>0</td><td><details class=\"dni-treeview\"><summary><span class=\"dni-code-hint\"><code>Microsoft.ML.Data.TextLoader+Range</code></span></summary><div><table><thead><tr></tr></thead><tbody><tr><td>Min</td><td>1</td></tr><tr><td>Max</td><td>1</td></tr><tr><td>AutoEnd</td><td>False</td></tr><tr><td>VariableEnd</td><td>False</td></tr><tr><td>AllOther</td><td>False</td></tr><tr><td>ForceVector</td><td>False</td></tr></tbody></table></div></details></td></tr></tbody></table></td></tr><tr><td>KeyCount</td><td><div class=\"dni-plaintext\"><pre>&lt;null&gt;</pre></div></td></tr></tbody></table></div></details></td></tr><tr><td>2</td><td><details class=\"dni-treeview\"><summary><span class=\"dni-code-hint\"><code>Microsoft.ML.Data.TextLoader+Column</code></span></summary><div><table><thead><tr></tr></thead><tbody><tr><td>DataKind</td><td><span>String</span></td></tr><tr><td>Name</td><td>Title</td></tr><tr><td>Source</td><td><table><thead><tr><th><i>index</i></th><th>value</th></tr></thead><tbody><tr><td>0</td><td><details class=\"dni-treeview\"><summary><span class=\"dni-code-hint\"><code>Microsoft.ML.Data.TextLoader+Range</code></span></summary><div><table><thead><tr></tr></thead><tbody><tr><td>Min</td><td>2</td></tr><tr><td>Max</td><td>2</td></tr><tr><td>AutoEnd</td><td>False</td></tr><tr><td>VariableEnd</td><td>False</td></tr><tr><td>AllOther</td><td>False</td></tr><tr><td>ForceVector</td><td>False</td></tr></tbody></table></div></details></td></tr></tbody></table></td></tr><tr><td>KeyCount</td><td><div class=\"dni-plaintext\"><pre>&lt;null&gt;</pre></div></td></tr></tbody></table></div></details></td></tr><tr><td>3</td><td><details class=\"dni-treeview\"><summary><span class=\"dni-code-hint\"><code>Microsoft.ML.Data.TextLoader+Column</code></span></summary><div><table><thead><tr></tr></thead><tbody><tr><td>DataKind</td><td><span>String</span></td></tr><tr><td>Name</td><td>Description</td></tr><tr><td>Source</td><td><table><thead><tr><th><i>index</i></th><th>value</th></tr></thead><tbody><tr><td>0</td><td><details class=\"dni-treeview\"><summary><span class=\"dni-code-hint\"><code>Microsoft.ML.Data.TextLoader+Range</code></span></summary><div><table><thead><tr></tr></thead><tbody><tr><td>Min</td><td>3</td></tr><tr><td>Max</td><td>3</td></tr><tr><td>AutoEnd</td><td>False</td></tr><tr><td>VariableEnd</td><td>False</td></tr><tr><td>AllOther</td><td>False</td></tr><tr><td>ForceVector</td><td>False</td></tr></tbody></table></div></details></td></tr></tbody></table></td></tr><tr><td>KeyCount</td><td><div class=\"dni-plaintext\"><pre>&lt;null&gt;</pre></div></td></tr></tbody></table></div></details></td></tr></tbody></table></td></tr><tr><td>TrimWhitespace</td><td><div class=\"dni-plaintext\"><pre>False</pre></div></td></tr><tr><td>HasHeader</td><td><div class=\"dni-plaintext\"><pre>True</pre></div></td></tr><tr><td>UseThreads</td><td><div class=\"dni-plaintext\"><pre>True</pre></div></td></tr><tr><td>ReadMultilines</td><td><div class=\"dni-plaintext\"><pre>False</pre></div></td></tr><tr><td>HeaderFile</td><td><div class=\"dni-plaintext\"><pre>&lt;null&gt;</pre></div></td></tr><tr><td>MaxRows</td><td><div class=\"dni-plaintext\"><pre>&lt;null&gt;</pre></div></td></tr><tr><td>EscapeChar</td><td><div class=\"dni-plaintext\"><pre>&quot;</pre></div></td></tr><tr><td>MissingRealsAsNaNs</td><td><div class=\"dni-plaintext\"><pre>False</pre></div></td></tr></tbody></table></div></details></td></tr><tr><td>ColumnInformation</td><td><details class=\"dni-treeview\"><summary><span class=\"dni-code-hint\"><code>Microsoft.ML.AutoML.ColumnInformation</code></span></summary><div><table><thead><tr></tr></thead><tbody><tr><td>LabelColumnName</td><td>Area</td></tr><tr><td>UserIdColumnName</td><td><div class=\"dni-plaintext\"><pre>&lt;null&gt;</pre></div></td></tr><tr><td>GroupIdColumnName</td><td><div class=\"dni-plaintext\"><pre>&lt;null&gt;</pre></div></td></tr><tr><td>ItemIdColumnName</td><td><div class=\"dni-plaintext\"><pre>&lt;null&gt;</pre></div></td></tr><tr><td>ExampleWeightColumnName</td><td><div class=\"dni-plaintext\"><pre>&lt;null&gt;</pre></div></td></tr><tr><td>SamplingKeyColumnName</td><td><div class=\"dni-plaintext\"><pre>&lt;null&gt;</pre></div></td></tr><tr><td>CategoricalColumnNames</td><td></td></tr><tr><td>NumericColumnNames</td><td><div class=\"dni-plaintext\"><pre>[ ID ]</pre></div></td></tr><tr><td>TextColumnNames</td><td><div class=\"dni-plaintext\"><pre>[ Title, Description ]</pre></div></td></tr><tr><td>IgnoredColumnNames</td><td></td></tr><tr><td>ImagePathColumnNames</td><td></td></tr></tbody></table></div></details></td></tr></tbody></table></div></details><style>\r\n",
       ".dni-code-hint {\r\n",
       "    font-style: italic;\r\n",
       "    overflow: hidden;\r\n",
       "    white-space: nowrap;\r\n",
       "}\r\n",
       ".dni-treeview {\r\n",
       "    white-space: nowrap;\r\n",
       "}\r\n",
       ".dni-treeview td {\r\n",
       "    vertical-align: top;\r\n",
       "    text-align: start;\r\n",
       "}\r\n",
       "details.dni-treeview {\r\n",
       "    padding-left: 1em;\r\n",
       "}\r\n",
       "table td {\r\n",
       "    text-align: start;\r\n",
       "}\r\n",
       "table tr { \r\n",
       "    vertical-align: top; \r\n",
       "    margin: 0em 0px;\r\n",
       "}\r\n",
       "table tr td pre \r\n",
       "{ \r\n",
       "    vertical-align: top !important; \r\n",
       "    margin: 0em 0px !important;\r\n",
       "} \r\n",
       "table th {\r\n",
       "    text-align: start;\r\n",
       "}\r\n",
       "</style>"
      ]
     },
     "metadata": {},
     "output_type": "display_data"
    }
   ],
   "source": [
    "columnInference"
   ]
  },
  {
   "cell_type": "markdown",
   "metadata": {},
   "source": [
    "## Load data into IDataView"
   ]
  },
  {
   "cell_type": "code",
   "execution_count": 25,
   "metadata": {
    "dotnet_interactive": {
     "language": "csharp"
    },
    "polyglot_notebook": {
     "kernelName": "csharp"
    },
    "vscode": {
     "languageId": "polyglot-notebook"
    }
   },
   "outputs": [],
   "source": [
    "// Create text loader\n",
    "TextLoader loader = ctx.Data.CreateTextLoader(columnInference.TextLoaderOptions);\n",
    "\n",
    "// Load data into IDataView\n",
    "IDataView data = loader.Load(dataPath);"
   ]
  },
  {
   "cell_type": "markdown",
   "metadata": {},
   "source": [
    "## Remove columns"
   ]
  },
  {
   "cell_type": "code",
   "execution_count": 26,
   "metadata": {
    "dotnet_interactive": {
     "language": "csharp"
    },
    "polyglot_notebook": {
     "kernelName": "csharp"
    },
    "vscode": {
     "languageId": "polyglot-notebook"
    }
   },
   "outputs": [
    {
     "data": {
      "text/html": [
       "<details open=\"open\" class=\"dni-treeview\"><summary><span class=\"dni-code-hint\"><code>Microsoft.ML.Transforms.ColumnSelectingTransformer+SelectColumnsDataTransform</code></span></summary><div><table><thead><tr></tr></thead><tbody><tr><td>CanShuffle</td><td><div class=\"dni-plaintext\"><pre>False</pre></div></td></tr><tr><td>Source</td><td><details class=\"dni-treeview\"><summary><span class=\"dni-code-hint\"><code>Microsoft.ML.Data.TextLoader+BoundLoader</code></span></summary><div><table><thead><tr></tr></thead><tbody><tr><td>CanShuffle</td><td><div class=\"dni-plaintext\"><pre>False</pre></div></td></tr><tr><td>Schema</td><td><table><thead><tr><th><i>index</i></th><th>value</th></tr></thead><tbody><tr><td>0</td><td><details class=\"dni-treeview\"><summary><span class=\"dni-code-hint\"><code>ID: Single</code></span></summary><div><table><thead><tr></tr></thead><tbody><tr><td>Name</td><td>ID</td></tr><tr><td>Index</td><td><div class=\"dni-plaintext\"><pre>0</pre></div></td></tr><tr><td>IsHidden</td><td><div class=\"dni-plaintext\"><pre>False</pre></div></td></tr><tr><td>Type</td><td><details class=\"dni-treeview\"><summary><span class=\"dni-code-hint\"><code>Single</code></span></summary><div><table><thead><tr></tr></thead><tbody><tr><td>RawType</td><td><span><a href=\"https://docs.microsoft.com/dotnet/api/system.single?view=net-7.0\">System.Single</a></span></td></tr></tbody></table></div></details></td></tr><tr><td>Annotations</td><td><details class=\"dni-treeview\"><summary><span class=\"dni-code-hint\"><code></code></span></summary><div><table><thead><tr></tr></thead><tbody><tr><td>Schema</td><td><i>(empty)</i></td></tr></tbody></table></div></details></td></tr></tbody></table></div></details></td></tr><tr><td>1</td><td><details class=\"dni-treeview\"><summary><span class=\"dni-code-hint\"><code>Area: String</code></span></summary><div><table><thead><tr></tr></thead><tbody><tr><td>Name</td><td>Area</td></tr><tr><td>Index</td><td><div class=\"dni-plaintext\"><pre>1</pre></div></td></tr><tr><td>IsHidden</td><td><div class=\"dni-plaintext\"><pre>False</pre></div></td></tr><tr><td>Type</td><td><details class=\"dni-treeview\"><summary><span class=\"dni-code-hint\"><code>String</code></span></summary><div><table><thead><tr></tr></thead><tbody><tr><td>RawType</td><td><span><a href=\"https://docs.microsoft.com/dotnet/api/system.readonlymemory-1?view=net-7.0\">System.ReadOnlyMemory&lt;System.Char&gt;</a></span></td></tr></tbody></table></div></details></td></tr><tr><td>Annotations</td><td><details class=\"dni-treeview\"><summary><span class=\"dni-code-hint\"><code></code></span></summary><div><table><thead><tr></tr></thead><tbody><tr><td>Schema</td><td><i>(empty)</i></td></tr></tbody></table></div></details></td></tr></tbody></table></div></details></td></tr><tr><td>2</td><td><details class=\"dni-treeview\"><summary><span class=\"dni-code-hint\"><code>Title: String</code></span></summary><div><table><thead><tr></tr></thead><tbody><tr><td>Name</td><td>Title</td></tr><tr><td>Index</td><td><div class=\"dni-plaintext\"><pre>2</pre></div></td></tr><tr><td>IsHidden</td><td><div class=\"dni-plaintext\"><pre>False</pre></div></td></tr><tr><td>Type</td><td><details class=\"dni-treeview\"><summary><span class=\"dni-code-hint\"><code>String</code></span></summary><div><table><thead><tr></tr></thead><tbody><tr><td>RawType</td><td><span><a href=\"https://docs.microsoft.com/dotnet/api/system.readonlymemory-1?view=net-7.0\">System.ReadOnlyMemory&lt;System.Char&gt;</a></span></td></tr></tbody></table></div></details></td></tr><tr><td>Annotations</td><td><details class=\"dni-treeview\"><summary><span class=\"dni-code-hint\"><code></code></span></summary><div><table><thead><tr></tr></thead><tbody><tr><td>Schema</td><td><i>(empty)</i></td></tr></tbody></table></div></details></td></tr></tbody></table></div></details></td></tr><tr><td>3</td><td><details class=\"dni-treeview\"><summary><span class=\"dni-code-hint\"><code>Description: String</code></span></summary><div><table><thead><tr></tr></thead><tbody><tr><td>Name</td><td>Description</td></tr><tr><td>Index</td><td><div class=\"dni-plaintext\"><pre>3</pre></div></td></tr><tr><td>IsHidden</td><td><div class=\"dni-plaintext\"><pre>False</pre></div></td></tr><tr><td>Type</td><td><details class=\"dni-treeview\"><summary><span class=\"dni-code-hint\"><code>String</code></span></summary><div><table><thead><tr></tr></thead><tbody><tr><td>RawType</td><td><span><a href=\"https://docs.microsoft.com/dotnet/api/system.readonlymemory-1?view=net-7.0\">System.ReadOnlyMemory&lt;System.Char&gt;</a></span></td></tr></tbody></table></div></details></td></tr><tr><td>Annotations</td><td><details class=\"dni-treeview\"><summary><span class=\"dni-code-hint\"><code></code></span></summary><div><table><thead><tr></tr></thead><tbody><tr><td>Schema</td><td><i>(empty)</i></td></tr></tbody></table></div></details></td></tr></tbody></table></div></details></td></tr></tbody></table></td></tr></tbody></table></div></details></td></tr><tr><td>InputSchema</td><td><table><thead><tr><th><i>index</i></th><th>value</th></tr></thead><tbody><tr><td>0</td><td><details class=\"dni-treeview\"><summary><span class=\"dni-code-hint\"><code>ID: Single</code></span></summary><div><table><thead><tr></tr></thead><tbody><tr><td>Name</td><td>ID</td></tr><tr><td>Index</td><td><div class=\"dni-plaintext\"><pre>0</pre></div></td></tr><tr><td>IsHidden</td><td><div class=\"dni-plaintext\"><pre>False</pre></div></td></tr><tr><td>Type</td><td><details class=\"dni-treeview\"><summary><span class=\"dni-code-hint\"><code>Single</code></span></summary><div><table><thead><tr></tr></thead><tbody><tr><td>RawType</td><td><span><a href=\"https://docs.microsoft.com/dotnet/api/system.single?view=net-7.0\">System.Single</a></span></td></tr></tbody></table></div></details></td></tr><tr><td>Annotations</td><td><details class=\"dni-treeview\"><summary><span class=\"dni-code-hint\"><code></code></span></summary><div><table><thead><tr></tr></thead><tbody><tr><td>Schema</td><td><i>(empty)</i></td></tr></tbody></table></div></details></td></tr></tbody></table></div></details></td></tr><tr><td>1</td><td><details class=\"dni-treeview\"><summary><span class=\"dni-code-hint\"><code>Area: String</code></span></summary><div><table><thead><tr></tr></thead><tbody><tr><td>Name</td><td>Area</td></tr><tr><td>Index</td><td><div class=\"dni-plaintext\"><pre>1</pre></div></td></tr><tr><td>IsHidden</td><td><div class=\"dni-plaintext\"><pre>False</pre></div></td></tr><tr><td>Type</td><td><details class=\"dni-treeview\"><summary><span class=\"dni-code-hint\"><code>String</code></span></summary><div><table><thead><tr></tr></thead><tbody><tr><td>RawType</td><td><span><a href=\"https://docs.microsoft.com/dotnet/api/system.readonlymemory-1?view=net-7.0\">System.ReadOnlyMemory&lt;System.Char&gt;</a></span></td></tr></tbody></table></div></details></td></tr><tr><td>Annotations</td><td><details class=\"dni-treeview\"><summary><span class=\"dni-code-hint\"><code></code></span></summary><div><table><thead><tr></tr></thead><tbody><tr><td>Schema</td><td><i>(empty)</i></td></tr></tbody></table></div></details></td></tr></tbody></table></div></details></td></tr><tr><td>2</td><td><details class=\"dni-treeview\"><summary><span class=\"dni-code-hint\"><code>Title: String</code></span></summary><div><table><thead><tr></tr></thead><tbody><tr><td>Name</td><td>Title</td></tr><tr><td>Index</td><td><div class=\"dni-plaintext\"><pre>2</pre></div></td></tr><tr><td>IsHidden</td><td><div class=\"dni-plaintext\"><pre>False</pre></div></td></tr><tr><td>Type</td><td><details class=\"dni-treeview\"><summary><span class=\"dni-code-hint\"><code>String</code></span></summary><div><table><thead><tr></tr></thead><tbody><tr><td>RawType</td><td><span><a href=\"https://docs.microsoft.com/dotnet/api/system.readonlymemory-1?view=net-7.0\">System.ReadOnlyMemory&lt;System.Char&gt;</a></span></td></tr></tbody></table></div></details></td></tr><tr><td>Annotations</td><td><details class=\"dni-treeview\"><summary><span class=\"dni-code-hint\"><code></code></span></summary><div><table><thead><tr></tr></thead><tbody><tr><td>Schema</td><td><i>(empty)</i></td></tr></tbody></table></div></details></td></tr></tbody></table></div></details></td></tr><tr><td>3</td><td><details class=\"dni-treeview\"><summary><span class=\"dni-code-hint\"><code>Description: String</code></span></summary><div><table><thead><tr></tr></thead><tbody><tr><td>Name</td><td>Description</td></tr><tr><td>Index</td><td><div class=\"dni-plaintext\"><pre>3</pre></div></td></tr><tr><td>IsHidden</td><td><div class=\"dni-plaintext\"><pre>False</pre></div></td></tr><tr><td>Type</td><td><details class=\"dni-treeview\"><summary><span class=\"dni-code-hint\"><code>String</code></span></summary><div><table><thead><tr></tr></thead><tbody><tr><td>RawType</td><td><span><a href=\"https://docs.microsoft.com/dotnet/api/system.readonlymemory-1?view=net-7.0\">System.ReadOnlyMemory&lt;System.Char&gt;</a></span></td></tr></tbody></table></div></details></td></tr><tr><td>Annotations</td><td><details class=\"dni-treeview\"><summary><span class=\"dni-code-hint\"><code></code></span></summary><div><table><thead><tr></tr></thead><tbody><tr><td>Schema</td><td><i>(empty)</i></td></tr></tbody></table></div></details></td></tr></tbody></table></div></details></td></tr></tbody></table></td></tr><tr><td>OutputSchema</td><td><table><thead><tr><th><i>index</i></th><th>value</th></tr></thead><tbody><tr><td>0</td><td><details class=\"dni-treeview\"><summary><span class=\"dni-code-hint\"><code>Area: String</code></span></summary><div><table><thead><tr></tr></thead><tbody><tr><td>Name</td><td>Area</td></tr><tr><td>Index</td><td><div class=\"dni-plaintext\"><pre>0</pre></div></td></tr><tr><td>IsHidden</td><td><div class=\"dni-plaintext\"><pre>False</pre></div></td></tr><tr><td>Type</td><td><details class=\"dni-treeview\"><summary><span class=\"dni-code-hint\"><code>String</code></span></summary><div><table><thead><tr></tr></thead><tbody><tr><td>RawType</td><td><span><a href=\"https://docs.microsoft.com/dotnet/api/system.readonlymemory-1?view=net-7.0\">System.ReadOnlyMemory&lt;System.Char&gt;</a></span></td></tr></tbody></table></div></details></td></tr><tr><td>Annotations</td><td><details class=\"dni-treeview\"><summary><span class=\"dni-code-hint\"><code></code></span></summary><div><table><thead><tr></tr></thead><tbody><tr><td>Schema</td><td><i>(empty)</i></td></tr></tbody></table></div></details></td></tr></tbody></table></div></details></td></tr><tr><td>1</td><td><details class=\"dni-treeview\"><summary><span class=\"dni-code-hint\"><code>Title: String</code></span></summary><div><table><thead><tr></tr></thead><tbody><tr><td>Name</td><td>Title</td></tr><tr><td>Index</td><td><div class=\"dni-plaintext\"><pre>1</pre></div></td></tr><tr><td>IsHidden</td><td><div class=\"dni-plaintext\"><pre>False</pre></div></td></tr><tr><td>Type</td><td><details class=\"dni-treeview\"><summary><span class=\"dni-code-hint\"><code>String</code></span></summary><div><table><thead><tr></tr></thead><tbody><tr><td>RawType</td><td><span><a href=\"https://docs.microsoft.com/dotnet/api/system.readonlymemory-1?view=net-7.0\">System.ReadOnlyMemory&lt;System.Char&gt;</a></span></td></tr></tbody></table></div></details></td></tr><tr><td>Annotations</td><td><details class=\"dni-treeview\"><summary><span class=\"dni-code-hint\"><code></code></span></summary><div><table><thead><tr></tr></thead><tbody><tr><td>Schema</td><td><i>(empty)</i></td></tr></tbody></table></div></details></td></tr></tbody></table></div></details></td></tr></tbody></table></td></tr></tbody></table></div></details><style>\r\n",
       ".dni-code-hint {\r\n",
       "    font-style: italic;\r\n",
       "    overflow: hidden;\r\n",
       "    white-space: nowrap;\r\n",
       "}\r\n",
       ".dni-treeview {\r\n",
       "    white-space: nowrap;\r\n",
       "}\r\n",
       ".dni-treeview td {\r\n",
       "    vertical-align: top;\r\n",
       "    text-align: start;\r\n",
       "}\r\n",
       "details.dni-treeview {\r\n",
       "    padding-left: 1em;\r\n",
       "}\r\n",
       "table td {\r\n",
       "    text-align: start;\r\n",
       "}\r\n",
       "table tr { \r\n",
       "    vertical-align: top; \r\n",
       "    margin: 0em 0px;\r\n",
       "}\r\n",
       "table tr td pre \r\n",
       "{ \r\n",
       "    vertical-align: top !important; \r\n",
       "    margin: 0em 0px !important;\r\n",
       "} \r\n",
       "table th {\r\n",
       "    text-align: start;\r\n",
       "}\r\n",
       "</style>"
      ]
     },
     "metadata": {},
     "output_type": "display_data"
    }
   ],
   "source": [
    "var columnsToExclude = new[]{\"ID\",\"Description\"};\n",
    "\n",
    "data = ctx.Transforms.DropColumns(columnsToExclude)\n",
    "    .Fit(data)\n",
    "    .Transform(data)"
   ]
  },
  {
   "cell_type": "markdown",
   "metadata": {},
   "source": [
    "## Split data into train / validation\n",
    "\n",
    "80% of the dataset is used for training and 20% is used for validation (tuning)"
   ]
  },
  {
   "cell_type": "code",
   "execution_count": 27,
   "metadata": {
    "dotnet_interactive": {
     "language": "csharp"
    },
    "polyglot_notebook": {
     "kernelName": "csharp"
    },
    "vscode": {
     "languageId": "polyglot-notebook"
    }
   },
   "outputs": [],
   "source": [
    "var trainValidationData = ctx.Data.TrainTestSplit(data, testFraction: 0.2);"
   ]
  },
  {
   "cell_type": "code",
   "execution_count": 28,
   "metadata": {
    "dotnet_interactive": {
     "language": "csharp"
    },
    "polyglot_notebook": {
     "kernelName": "csharp"
    },
    "vscode": {
     "languageId": "polyglot-notebook"
    }
   },
   "outputs": [],
   "source": [
    "SweepablePipeline pipeline =\n",
    "    ctx.Auto().Featurizer(data, columnInformation: columnInference.ColumnInformation)\n",
    "        .Append(ctx.Transforms.Conversion.MapValueToKey(columnInference.ColumnInformation.LabelColumnName))\n",
    "        .Append(ctx.Auto().MultiClassification(labelColumnName: columnInference.ColumnInformation.LabelColumnName))\n",
    "        .Append(ctx.Transforms.Conversion.MapKeyToValue(\"PredictedLabel\"));"
   ]
  },
  {
   "cell_type": "markdown",
   "metadata": {},
   "source": [
    "## Create AutoML experiment"
   ]
  },
  {
   "cell_type": "code",
   "execution_count": 29,
   "metadata": {
    "dotnet_interactive": {
     "language": "csharp"
    },
    "polyglot_notebook": {
     "kernelName": "csharp"
    },
    "vscode": {
     "languageId": "polyglot-notebook"
    }
   },
   "outputs": [],
   "source": [
    "AutoMLExperiment experiment = ctx.Auto().CreateExperiment();"
   ]
  },
  {
   "cell_type": "markdown",
   "metadata": {},
   "source": [
    "## Configure experiment settings"
   ]
  },
  {
   "cell_type": "code",
   "execution_count": 30,
   "metadata": {
    "dotnet_interactive": {
     "language": "csharp"
    },
    "polyglot_notebook": {
     "kernelName": "csharp"
    },
    "vscode": {
     "languageId": "polyglot-notebook"
    }
   },
   "outputs": [],
   "source": [
    "experiment\n",
    ".SetPipeline(pipeline)\n",
    ".SetMulticlassClassificationMetric(MulticlassClassificationMetric.MacroAccuracy, labelColumn: columnInference.ColumnInformation.LabelColumnName)\n",
    ".SetTrainingTimeInSeconds(120)\n",
    ".SetDataset(trainValidationData);"
   ]
  },
  {
   "cell_type": "markdown",
   "metadata": {},
   "source": [
    "## Configure experiment monitor"
   ]
  },
  {
   "cell_type": "code",
   "execution_count": 31,
   "metadata": {
    "dotnet_interactive": {
     "language": "csharp"
    },
    "polyglot_notebook": {
     "kernelName": "csharp"
    },
    "vscode": {
     "languageId": "polyglot-notebook"
    }
   },
   "outputs": [],
   "source": [
    "public class AutoMLMonitor : IMonitor\n",
    "{\n",
    "    private readonly List<TrialResult> _completedTrials;\n",
    "    private readonly SweepablePipeline _pipeline;\n",
    "\n",
    "    public AutoMLMonitor(SweepablePipeline pipeline)\n",
    "    {\n",
    "        _completedTrials = new List<TrialResult>();\n",
    "        _pipeline = pipeline;\n",
    "    }\n",
    "\n",
    "    public IEnumerable<TrialResult> GetCompletedTrials() => _completedTrials;\n",
    "\n",
    "    public void ReportBestTrial(TrialResult result)\n",
    "    {\n",
    "        return;\n",
    "    }\n",
    "\n",
    "    public void ReportCompletedTrial(TrialResult result)\n",
    "    {\n",
    "        var trialId = result.TrialSettings.TrialId;\n",
    "        var timeToTrain = result.DurationInMilliseconds;\n",
    "        var pipeline = _pipeline.ToString(result.TrialSettings.Parameter);\n",
    "        Console.WriteLine($\"Trial {trialId} finished training in {timeToTrain}ms with pipeline {pipeline}\");\n",
    "        _completedTrials.Add(result);\n",
    "    }\n",
    "\n",
    "    public void ReportFailTrial(TrialSettings settings, Exception exception = null)\n",
    "    {\n",
    "        if (exception.Message.Contains(\"Operation was canceled.\"))\n",
    "        {\n",
    "            Console.WriteLine($\"{settings.TrialId} cancelled. Time budget exceeded.\");\n",
    "        }\n",
    "        Console.WriteLine($\"{settings.TrialId} failed with exception {exception.Message}\");\n",
    "    }\n",
    "\n",
    "    public void ReportRunningTrial(TrialSettings setting)\n",
    "    {\n",
    "        return;\n",
    "    }\n",
    "}"
   ]
  },
  {
   "cell_type": "code",
   "execution_count": 32,
   "metadata": {
    "dotnet_interactive": {
     "language": "csharp"
    },
    "polyglot_notebook": {
     "kernelName": "csharp"
    },
    "vscode": {
     "languageId": "polyglot-notebook"
    }
   },
   "outputs": [],
   "source": [
    "var monitor = new AutoMLMonitor(pipeline);\n",
    "experiment.SetMonitor(monitor);"
   ]
  },
  {
   "cell_type": "markdown",
   "metadata": {},
   "source": [
    "## Train the model"
   ]
  },
  {
   "cell_type": "code",
   "execution_count": 33,
   "metadata": {
    "dotnet_interactive": {
     "language": "csharp"
    },
    "polyglot_notebook": {
     "kernelName": "csharp"
    },
    "vscode": {
     "languageId": "polyglot-notebook"
    }
   },
   "outputs": [
    {
     "name": "stdout",
     "output_type": "stream",
     "text": [
      "Trial 0 finished training in 11009ms with pipeline FeaturizeText=>Concatenate=>Unknown=>FastTreeOva=>Unknown\n",
      "Trial 1 finished training in 12438ms with pipeline FeaturizeText=>Concatenate=>Unknown=>FastForestOva=>Unknown\n",
      "Trial 2 finished training in 723ms with pipeline FeaturizeText=>Concatenate=>Unknown=>SdcaMaximumEntropyMulti=>Unknown\n",
      "Trial 3 finished training in 12862ms with pipeline FeaturizeText=>Concatenate=>Unknown=>FastForestOva=>Unknown\n",
      "Trial 4 finished training in 5418ms with pipeline FeaturizeText=>Concatenate=>Unknown=>LbfgsLogisticRegressionOva=>Unknown\n",
      "Trial 5 finished training in 1120ms with pipeline FeaturizeText=>Concatenate=>Unknown=>LightGbmMulti=>Unknown\n",
      "Trial 6 finished training in 8544ms with pipeline FeaturizeText=>Concatenate=>Unknown=>FastTreeOva=>Unknown\n",
      "Trial 7 finished training in 9082ms with pipeline FeaturizeText=>Concatenate=>Unknown=>LbfgsMaximumEntropyMulti=>Unknown\n",
      "Trial 8 finished training in 8459ms with pipeline FeaturizeText=>Concatenate=>Unknown=>SdcaLogisticRegressionOva=>Unknown\n",
      "Trial 9 finished training in 20239ms with pipeline FeaturizeText=>Concatenate=>Unknown=>FastForestOva=>Unknown\n",
      "Trial 10 finished training in 1066ms with pipeline FeaturizeText=>Concatenate=>Unknown=>LightGbmMulti=>Unknown\n",
      "Trial 11 finished training in 11945ms with pipeline FeaturizeText=>Concatenate=>Unknown=>FastForestOva=>Unknown\n"
     ]
    }
   ],
   "source": [
    "var cts = new CancellationTokenSource();\n",
    "TrialResult experimentResults = await experiment.RunAsync(cts.Token);"
   ]
  },
  {
   "cell_type": "markdown",
   "metadata": {},
   "source": [
    "## Get the best model"
   ]
  },
  {
   "cell_type": "code",
   "execution_count": 34,
   "metadata": {
    "dotnet_interactive": {
     "language": "csharp"
    },
    "polyglot_notebook": {
     "kernelName": "csharp"
    },
    "vscode": {
     "languageId": "polyglot-notebook"
    }
   },
   "outputs": [
    {
     "data": {
      "text/html": [
       "<table><thead><tr><th><i>index</i></th><th><i>type</i></th><th>value</th></tr></thead><tbody><tr><td>0</td><td><span><a href=\"https://docs.microsoft.com/dotnet/api/microsoft.ml.transforms.text.textfeaturizingestimator.transformer?view=net-7.0\">Microsoft.ML.Transforms.Text.TextFeaturizingEstimator+Transformer</a></span></td><td><details class=\"dni-treeview\"><summary><span class=\"dni-code-hint\"><code>Microsoft.ML.Transforms.Text.TextFeaturizingEstimator+Transformer</code></span></summary><div><table><thead><tr></tr></thead><tbody></tbody></table></div></details></td></tr><tr><td>1</td><td><span><a href=\"https://docs.microsoft.com/dotnet/api/microsoft.ml.data.columnconcatenatingtransformer?view=net-7.0\">Microsoft.ML.Data.ColumnConcatenatingTransformer</a></span></td><td><details class=\"dni-treeview\"><summary><span class=\"dni-code-hint\"><code>Microsoft.ML.Data.ColumnConcatenatingTransformer</code></span></summary><div><table><thead><tr></tr></thead><tbody></tbody></table></div></details></td></tr><tr><td>2</td><td><span><a href=\"https://docs.microsoft.com/dotnet/api/microsoft.ml.transforms.valuetokeymappingtransformer?view=net-7.0\">Microsoft.ML.Transforms.ValueToKeyMappingTransformer</a></span></td><td><details class=\"dni-treeview\"><summary><span class=\"dni-code-hint\"><code>Microsoft.ML.Transforms.ValueToKeyMappingTransformer</code></span></summary><div><table><thead><tr></tr></thead><tbody></tbody></table></div></details></td></tr><tr><td>3</td><td><span><a href=\"https://docs.microsoft.com/dotnet/api/microsoft.ml.data.multiclasspredictiontransformer-1?view=net-7.0\">Microsoft.ML.Data.MulticlassPredictionTransformer&lt;Microsoft.ML.Trainers.OneVersusAllModelParameters&gt;</a></span></td><td><details class=\"dni-treeview\"><summary><span class=\"dni-code-hint\"><code>Microsoft.ML.Data.MulticlassPredictionTransformer`1[Microsoft.ML.Trainers.OneVersusAllModelParameters]</code></span></summary><div><table><thead><tr></tr></thead><tbody><tr><td>FeatureColumnName</td><td>Features</td></tr><tr><td>FeatureColumnType</td><td><details class=\"dni-treeview\"><summary><span class=\"dni-code-hint\"><code>Vector<Single, 67785></code></span></summary><div><table><thead><tr></tr></thead><tbody><tr><td>Dimensions</td><td><div class=\"dni-plaintext\"><pre>[ 67785 ]</pre></div></td></tr><tr><td>IsKnownSize</td><td><div class=\"dni-plaintext\"><pre>True</pre></div></td></tr><tr><td>ItemType</td><td><details class=\"dni-treeview\"><summary><span class=\"dni-code-hint\"><code>Single</code></span></summary><div><table><thead><tr></tr></thead><tbody><tr><td>RawType</td><td><span><a href=\"https://docs.microsoft.com/dotnet/api/system.single?view=net-7.0\">System.Single</a></span></td></tr></tbody></table></div></details></td></tr><tr><td>Size</td><td><div class=\"dni-plaintext\"><pre>67785</pre></div></td></tr><tr><td>RawType</td><td><span><a href=\"https://docs.microsoft.com/dotnet/api/microsoft.ml.data.vbuffer-1?view=net-7.0\">Microsoft.ML.Data.VBuffer&lt;System.Single&gt;</a></span></td></tr></tbody></table></div></details></td></tr><tr><td>Model</td><td><details class=\"dni-treeview\"><summary><span class=\"dni-code-hint\"><code>Microsoft.ML.Trainers.OneVersusAllModelParameters</code></span></summary><div><table><thead><tr></tr></thead><tbody></tbody></table></div></details></td></tr></tbody></table></div></details></td></tr><tr><td>4</td><td><span><a href=\"https://docs.microsoft.com/dotnet/api/microsoft.ml.transforms.keytovaluemappingtransformer?view=net-7.0\">Microsoft.ML.Transforms.KeyToValueMappingTransformer</a></span></td><td><details class=\"dni-treeview\"><summary><span class=\"dni-code-hint\"><code>Microsoft.ML.Transforms.KeyToValueMappingTransformer</code></span></summary><div><table><thead><tr></tr></thead><tbody></tbody></table></div></details></td></tr></tbody></table><style>\r\n",
       ".dni-code-hint {\r\n",
       "    font-style: italic;\r\n",
       "    overflow: hidden;\r\n",
       "    white-space: nowrap;\r\n",
       "}\r\n",
       ".dni-treeview {\r\n",
       "    white-space: nowrap;\r\n",
       "}\r\n",
       ".dni-treeview td {\r\n",
       "    vertical-align: top;\r\n",
       "    text-align: start;\r\n",
       "}\r\n",
       "details.dni-treeview {\r\n",
       "    padding-left: 1em;\r\n",
       "}\r\n",
       "table td {\r\n",
       "    text-align: start;\r\n",
       "}\r\n",
       "table tr { \r\n",
       "    vertical-align: top; \r\n",
       "    margin: 0em 0px;\r\n",
       "}\r\n",
       "table tr td pre \r\n",
       "{ \r\n",
       "    vertical-align: top !important; \r\n",
       "    margin: 0em 0px !important;\r\n",
       "} \r\n",
       "table th {\r\n",
       "    text-align: start;\r\n",
       "}\r\n",
       "</style>"
      ]
     },
     "metadata": {},
     "output_type": "display_data"
    }
   ],
   "source": [
    "var bestModel = experimentResults.Model;\n",
    "bestModel"
   ]
  },
  {
   "cell_type": "markdown",
   "metadata": {},
   "source": [
    "## Display the metric for the best model"
   ]
  },
  {
   "cell_type": "code",
   "execution_count": 35,
   "metadata": {
    "dotnet_interactive": {
     "language": "csharp"
    },
    "polyglot_notebook": {
     "kernelName": "csharp"
    },
    "vscode": {
     "languageId": "polyglot-notebook"
    }
   },
   "outputs": [
    {
     "data": {
      "text/html": [
       "<div class=\"dni-plaintext\"><pre>0.6928909901540781</pre></div><style>\r\n",
       ".dni-code-hint {\r\n",
       "    font-style: italic;\r\n",
       "    overflow: hidden;\r\n",
       "    white-space: nowrap;\r\n",
       "}\r\n",
       ".dni-treeview {\r\n",
       "    white-space: nowrap;\r\n",
       "}\r\n",
       ".dni-treeview td {\r\n",
       "    vertical-align: top;\r\n",
       "    text-align: start;\r\n",
       "}\r\n",
       "details.dni-treeview {\r\n",
       "    padding-left: 1em;\r\n",
       "}\r\n",
       "table td {\r\n",
       "    text-align: start;\r\n",
       "}\r\n",
       "table tr { \r\n",
       "    vertical-align: top; \r\n",
       "    margin: 0em 0px;\r\n",
       "}\r\n",
       "table tr td pre \r\n",
       "{ \r\n",
       "    vertical-align: top !important; \r\n",
       "    margin: 0em 0px !important;\r\n",
       "} \r\n",
       "table th {\r\n",
       "    text-align: start;\r\n",
       "}\r\n",
       "</style>"
      ]
     },
     "metadata": {},
     "output_type": "display_data"
    }
   ],
   "source": [
    "experimentResults.Metric"
   ]
  },
  {
   "cell_type": "markdown",
   "metadata": {},
   "source": [
    "## Try out the model"
   ]
  },
  {
   "cell_type": "markdown",
   "metadata": {},
   "source": [
    "### Make predictions"
   ]
  },
  {
   "cell_type": "code",
   "execution_count": 36,
   "metadata": {
    "dotnet_interactive": {
     "language": "csharp"
    },
    "polyglot_notebook": {
     "kernelName": "csharp"
    },
    "vscode": {
     "languageId": "polyglot-notebook"
    }
   },
   "outputs": [],
   "source": [
    "var predictions = bestModel.Transform(trainValidationData.TestSet);"
   ]
  },
  {
   "cell_type": "markdown",
   "metadata": {},
   "source": [
    "### Display prediction results"
   ]
  },
  {
   "cell_type": "code",
   "execution_count": 37,
   "metadata": {
    "dotnet_interactive": {
     "language": "csharp"
    },
    "polyglot_notebook": {
     "kernelName": "csharp"
    },
    "vscode": {
     "languageId": "polyglot-notebook"
    }
   },
   "outputs": [
    {
     "data": {
      "text/html": [
       "<table><thead><tr><th><i>index</i></th><th>value</th></tr></thead><tbody><tr><td>0</td><td><details class=\"dni-treeview\"><summary><span class=\"dni-code-hint\"><code>8 columns</code></span></summary><div><table><thead><tr></tr></thead><tbody><tr><td>Values</td><td><table><thead><tr><th><i>index</i></th><th>value</th></tr></thead><tbody><tr><td>0</td><td><details class=\"dni-treeview\"><summary><span class=\"dni-code-hint\"><code>[Area, area-Infrastructure]</code></span></summary><div><table><thead><tr></tr></thead><tbody><tr><td>Key</td><td>Area</td></tr><tr><td>Value</td><td><span>area-Infrastructure</span></td></tr></tbody></table></div></details></td></tr><tr><td>1</td><td><details class=\"dni-treeview\"><summary><span class=\"dni-code-hint\"><code>[Area, 4]</code></span></summary><div><table><thead><tr></tr></thead><tbody><tr><td>Key</td><td>Area</td></tr><tr><td>Value</td><td><div class=\"dni-plaintext\"><pre>4</pre></div></td></tr></tbody></table></div></details></td></tr><tr><td>2</td><td><details class=\"dni-treeview\"><summary><span class=\"dni-code-hint\"><code>[Title, Add Linux/Mac build script]</code></span></summary><div><table><thead><tr></tr></thead><tbody><tr><td>Key</td><td>Title</td></tr><tr><td>Value</td><td><span>Add Linux/Mac build script</span></td></tr></tbody></table></div></details></td></tr><tr><td>3</td><td><details class=\"dni-treeview\"><summary><span class=\"dni-code-hint\"><code>[Title, Sparse vector of size 67785, 30 explicit values]</code></span></summary><div><table><thead><tr></tr></thead><tbody><tr><td>Key</td><td>Title</td></tr><tr><td>Value</td><td><details class=\"dni-treeview\"><summary><span class=\"dni-code-hint\"><code>Sparse vector of size 67785, 30 explicit values</code></span></summary><div><table><thead><tr></tr></thead><tbody><tr><td>IsDense</td><td><div class=\"dni-plaintext\"><pre>False</pre></div></td></tr><tr><td>Length</td><td><div class=\"dni-plaintext\"><pre>67785</pre></div></td></tr></tbody></table></div></details></td></tr></tbody></table></div></details></td></tr><tr><td>4</td><td><details class=\"dni-treeview\"><summary><span class=\"dni-code-hint\"><code>[Features, Sparse vector of size 67785, 30 explicit values]</code></span></summary><div><table><thead><tr></tr></thead><tbody><tr><td>Key</td><td>Features</td></tr><tr><td>Value</td><td><details class=\"dni-treeview\"><summary><span class=\"dni-code-hint\"><code>Sparse vector of size 67785, 30 explicit values</code></span></summary><div><table><thead><tr></tr></thead><tbody><tr><td>IsDense</td><td><div class=\"dni-plaintext\"><pre>False</pre></div></td></tr><tr><td>Length</td><td><div class=\"dni-plaintext\"><pre>67785</pre></div></td></tr></tbody></table></div></details></td></tr></tbody></table></div></details></td></tr><tr><td>5</td><td><details class=\"dni-treeview\"><summary><span class=\"dni-code-hint\"><code>[PredictedLabel, 4]</code></span></summary><div><table><thead><tr></tr></thead><tbody><tr><td>Key</td><td>PredictedLabel</td></tr><tr><td>Value</td><td><div class=\"dni-plaintext\"><pre>4</pre></div></td></tr></tbody></table></div></details></td></tr><tr><td>6</td><td><details class=\"dni-treeview\"><summary><span class=\"dni-code-hint\"><code>[PredictedLabel, area-Infrastructure]</code></span></summary><div><table><thead><tr></tr></thead><tbody><tr><td>Key</td><td>PredictedLabel</td></tr><tr><td>Value</td><td><span>area-Infrastructure</span></td></tr></tbody></table></div></details></td></tr><tr><td>7</td><td><details class=\"dni-treeview\"><summary><span class=\"dni-code-hint\"><code>[Score, Dense vector of size 22]</code></span></summary><div><table><thead><tr></tr></thead><tbody><tr><td>Key</td><td>Score</td></tr><tr><td>Value</td><td><details class=\"dni-treeview\"><summary><span class=\"dni-code-hint\"><code>Dense vector of size 22</code></span></summary><div><table><thead><tr></tr></thead><tbody><tr><td>IsDense</td><td><div class=\"dni-plaintext\"><pre>True</pre></div></td></tr><tr><td>Length</td><td><div class=\"dni-plaintext\"><pre>22</pre></div></td></tr></tbody></table></div></details></td></tr></tbody></table></div></details></td></tr></tbody></table></td></tr></tbody></table></div></details></td></tr><tr><td>1</td><td><details class=\"dni-treeview\"><summary><span class=\"dni-code-hint\"><code>8 columns</code></span></summary><div><table><thead><tr></tr></thead><tbody><tr><td>Values</td><td><table><thead><tr><th><i>index</i></th><th>value</th></tr></thead><tbody><tr><td>0</td><td><details class=\"dni-treeview\"><summary><span class=\"dni-code-hint\"><code>[Area, area-System.Numerics]</code></span></summary><div><table><thead><tr></tr></thead><tbody><tr><td>Key</td><td>Area</td></tr><tr><td>Value</td><td><span>area-System.Numerics</span></td></tr></tbody></table></div></details></td></tr><tr><td>1</td><td><details class=\"dni-treeview\"><summary><span class=\"dni-code-hint\"><code>[Area, 2]</code></span></summary><div><table><thead><tr></tr></thead><tbody><tr><td>Key</td><td>Area</td></tr><tr><td>Value</td><td><div class=\"dni-plaintext\"><pre>2</pre></div></td></tr></tbody></table></div></details></td></tr><tr><td>2</td><td><details class=\"dni-treeview\"><summary><span class=\"dni-code-hint\"><code>[Title, Made Quarternion's operator overloads use their respective methods]</code></span></summary><div><table><thead><tr></tr></thead><tbody><tr><td>Key</td><td>Title</td></tr><tr><td>Value</td><td><span>Made Quarternion&#39;s operator overloads use their respective methods</span></td></tr></tbody></table></div></details></td></tr><tr><td>3</td><td><details class=\"dni-treeview\"><summary><span class=\"dni-code-hint\"><code>[Title, Sparse vector of size 67785, 75 explicit values]</code></span></summary><div><table><thead><tr></tr></thead><tbody><tr><td>Key</td><td>Title</td></tr><tr><td>Value</td><td><details class=\"dni-treeview\"><summary><span class=\"dni-code-hint\"><code>Sparse vector of size 67785, 75 explicit values</code></span></summary><div><table><thead><tr></tr></thead><tbody><tr><td>IsDense</td><td><div class=\"dni-plaintext\"><pre>False</pre></div></td></tr><tr><td>Length</td><td><div class=\"dni-plaintext\"><pre>67785</pre></div></td></tr></tbody></table></div></details></td></tr></tbody></table></div></details></td></tr><tr><td>4</td><td><details class=\"dni-treeview\"><summary><span class=\"dni-code-hint\"><code>[Features, Sparse vector of size 67785, 75 explicit values]</code></span></summary><div><table><thead><tr></tr></thead><tbody><tr><td>Key</td><td>Features</td></tr><tr><td>Value</td><td><details class=\"dni-treeview\"><summary><span class=\"dni-code-hint\"><code>Sparse vector of size 67785, 75 explicit values</code></span></summary><div><table><thead><tr></tr></thead><tbody><tr><td>IsDense</td><td><div class=\"dni-plaintext\"><pre>False</pre></div></td></tr><tr><td>Length</td><td><div class=\"dni-plaintext\"><pre>67785</pre></div></td></tr></tbody></table></div></details></td></tr></tbody></table></div></details></td></tr><tr><td>5</td><td><details class=\"dni-treeview\"><summary><span class=\"dni-code-hint\"><code>[PredictedLabel, 17]</code></span></summary><div><table><thead><tr></tr></thead><tbody><tr><td>Key</td><td>PredictedLabel</td></tr><tr><td>Value</td><td><div class=\"dni-plaintext\"><pre>17</pre></div></td></tr></tbody></table></div></details></td></tr><tr><td>6</td><td><details class=\"dni-treeview\"><summary><span class=\"dni-code-hint\"><code>[PredictedLabel, area-System.Net]</code></span></summary><div><table><thead><tr></tr></thead><tbody><tr><td>Key</td><td>PredictedLabel</td></tr><tr><td>Value</td><td><span>area-System.Net</span></td></tr></tbody></table></div></details></td></tr><tr><td>7</td><td><details class=\"dni-treeview\"><summary><span class=\"dni-code-hint\"><code>[Score, Dense vector of size 22]</code></span></summary><div><table><thead><tr></tr></thead><tbody><tr><td>Key</td><td>Score</td></tr><tr><td>Value</td><td><details class=\"dni-treeview\"><summary><span class=\"dni-code-hint\"><code>Dense vector of size 22</code></span></summary><div><table><thead><tr></tr></thead><tbody><tr><td>IsDense</td><td><div class=\"dni-plaintext\"><pre>True</pre></div></td></tr><tr><td>Length</td><td><div class=\"dni-plaintext\"><pre>22</pre></div></td></tr></tbody></table></div></details></td></tr></tbody></table></div></details></td></tr></tbody></table></td></tr></tbody></table></div></details></td></tr><tr><td>2</td><td><details class=\"dni-treeview\"><summary><span class=\"dni-code-hint\"><code>8 columns</code></span></summary><div><table><thead><tr></tr></thead><tbody><tr><td>Values</td><td><table><thead><tr><th><i>index</i></th><th>value</th></tr></thead><tbody><tr><td>0</td><td><details class=\"dni-treeview\"><summary><span class=\"dni-code-hint\"><code>[Area, area-System.Xml]</code></span></summary><div><table><thead><tr></tr></thead><tbody><tr><td>Key</td><td>Area</td></tr><tr><td>Value</td><td><span>area-System.Xml</span></td></tr></tbody></table></div></details></td></tr><tr><td>1</td><td><details class=\"dni-treeview\"><summary><span class=\"dni-code-hint\"><code>[Area, 1]</code></span></summary><div><table><thead><tr></tr></thead><tbody><tr><td>Key</td><td>Area</td></tr><tr><td>Value</td><td><div class=\"dni-plaintext\"><pre>1</pre></div></td></tr></tbody></table></div></details></td></tr><tr><td>2</td><td><details class=\"dni-treeview\"><summary><span class=\"dni-code-hint\"><code>[Title, Add async document/element loading for XLinq.]</code></span></summary><div><table><thead><tr></tr></thead><tbody><tr><td>Key</td><td>Title</td></tr><tr><td>Value</td><td><span>Add async document/element loading for XLinq.</span></td></tr></tbody></table></div></details></td></tr><tr><td>3</td><td><details class=\"dni-treeview\"><summary><span class=\"dni-code-hint\"><code>[Title, Sparse vector of size 67785, 48 explicit values]</code></span></summary><div><table><thead><tr></tr></thead><tbody><tr><td>Key</td><td>Title</td></tr><tr><td>Value</td><td><details class=\"dni-treeview\"><summary><span class=\"dni-code-hint\"><code>Sparse vector of size 67785, 48 explicit values</code></span></summary><div><table><thead><tr></tr></thead><tbody><tr><td>IsDense</td><td><div class=\"dni-plaintext\"><pre>False</pre></div></td></tr><tr><td>Length</td><td><div class=\"dni-plaintext\"><pre>67785</pre></div></td></tr></tbody></table></div></details></td></tr></tbody></table></div></details></td></tr><tr><td>4</td><td><details class=\"dni-treeview\"><summary><span class=\"dni-code-hint\"><code>[Features, Sparse vector of size 67785, 48 explicit values]</code></span></summary><div><table><thead><tr></tr></thead><tbody><tr><td>Key</td><td>Features</td></tr><tr><td>Value</td><td><details class=\"dni-treeview\"><summary><span class=\"dni-code-hint\"><code>Sparse vector of size 67785, 48 explicit values</code></span></summary><div><table><thead><tr></tr></thead><tbody><tr><td>IsDense</td><td><div class=\"dni-plaintext\"><pre>False</pre></div></td></tr><tr><td>Length</td><td><div class=\"dni-plaintext\"><pre>67785</pre></div></td></tr></tbody></table></div></details></td></tr></tbody></table></div></details></td></tr><tr><td>5</td><td><details class=\"dni-treeview\"><summary><span class=\"dni-code-hint\"><code>[PredictedLabel, 5]</code></span></summary><div><table><thead><tr></tr></thead><tbody><tr><td>Key</td><td>PredictedLabel</td></tr><tr><td>Value</td><td><div class=\"dni-plaintext\"><pre>5</pre></div></td></tr></tbody></table></div></details></td></tr><tr><td>6</td><td><details class=\"dni-treeview\"><summary><span class=\"dni-code-hint\"><code>[PredictedLabel, area-System.Linq]</code></span></summary><div><table><thead><tr></tr></thead><tbody><tr><td>Key</td><td>PredictedLabel</td></tr><tr><td>Value</td><td><span>area-System.Linq</span></td></tr></tbody></table></div></details></td></tr><tr><td>7</td><td><details class=\"dni-treeview\"><summary><span class=\"dni-code-hint\"><code>[Score, Dense vector of size 22]</code></span></summary><div><table><thead><tr></tr></thead><tbody><tr><td>Key</td><td>Score</td></tr><tr><td>Value</td><td><details class=\"dni-treeview\"><summary><span class=\"dni-code-hint\"><code>Dense vector of size 22</code></span></summary><div><table><thead><tr></tr></thead><tbody><tr><td>IsDense</td><td><div class=\"dni-plaintext\"><pre>True</pre></div></td></tr><tr><td>Length</td><td><div class=\"dni-plaintext\"><pre>22</pre></div></td></tr></tbody></table></div></details></td></tr></tbody></table></div></details></td></tr></tbody></table></td></tr></tbody></table></div></details></td></tr><tr><td>3</td><td><details class=\"dni-treeview\"><summary><span class=\"dni-code-hint\"><code>8 columns</code></span></summary><div><table><thead><tr></tr></thead><tbody><tr><td>Values</td><td><table><thead><tr><th><i>index</i></th><th>value</th></tr></thead><tbody><tr><td>0</td><td><details class=\"dni-treeview\"><summary><span class=\"dni-code-hint\"><code>[Area, area-System.Xml]</code></span></summary><div><table><thead><tr></tr></thead><tbody><tr><td>Key</td><td>Area</td></tr><tr><td>Value</td><td><span>area-System.Xml</span></td></tr></tbody></table></div></details></td></tr><tr><td>1</td><td><details class=\"dni-treeview\"><summary><span class=\"dni-code-hint\"><code>[Area, 1]</code></span></summary><div><table><thead><tr></tr></thead><tbody><tr><td>Key</td><td>Area</td></tr><tr><td>Value</td><td><div class=\"dni-plaintext\"><pre>1</pre></div></td></tr></tbody></table></div></details></td></tr><tr><td>2</td><td><details class=\"dni-treeview\"><summary><span class=\"dni-code-hint\"><code>[Title, Wrong named tests in System.Xml.XmlDocument]</code></span></summary><div><table><thead><tr></tr></thead><tbody><tr><td>Key</td><td>Title</td></tr><tr><td>Value</td><td><span>Wrong named tests in System.Xml.XmlDocument</span></td></tr></tbody></table></div></details></td></tr><tr><td>3</td><td><details class=\"dni-treeview\"><summary><span class=\"dni-code-hint\"><code>[Title, Sparse vector of size 67785, 47 explicit values]</code></span></summary><div><table><thead><tr></tr></thead><tbody><tr><td>Key</td><td>Title</td></tr><tr><td>Value</td><td><details class=\"dni-treeview\"><summary><span class=\"dni-code-hint\"><code>Sparse vector of size 67785, 47 explicit values</code></span></summary><div><table><thead><tr></tr></thead><tbody><tr><td>IsDense</td><td><div class=\"dni-plaintext\"><pre>False</pre></div></td></tr><tr><td>Length</td><td><div class=\"dni-plaintext\"><pre>67785</pre></div></td></tr></tbody></table></div></details></td></tr></tbody></table></div></details></td></tr><tr><td>4</td><td><details class=\"dni-treeview\"><summary><span class=\"dni-code-hint\"><code>[Features, Sparse vector of size 67785, 47 explicit values]</code></span></summary><div><table><thead><tr></tr></thead><tbody><tr><td>Key</td><td>Features</td></tr><tr><td>Value</td><td><details class=\"dni-treeview\"><summary><span class=\"dni-code-hint\"><code>Sparse vector of size 67785, 47 explicit values</code></span></summary><div><table><thead><tr></tr></thead><tbody><tr><td>IsDense</td><td><div class=\"dni-plaintext\"><pre>False</pre></div></td></tr><tr><td>Length</td><td><div class=\"dni-plaintext\"><pre>67785</pre></div></td></tr></tbody></table></div></details></td></tr></tbody></table></div></details></td></tr><tr><td>5</td><td><details class=\"dni-treeview\"><summary><span class=\"dni-code-hint\"><code>[PredictedLabel, 1]</code></span></summary><div><table><thead><tr></tr></thead><tbody><tr><td>Key</td><td>PredictedLabel</td></tr><tr><td>Value</td><td><div class=\"dni-plaintext\"><pre>1</pre></div></td></tr></tbody></table></div></details></td></tr><tr><td>6</td><td><details class=\"dni-treeview\"><summary><span class=\"dni-code-hint\"><code>[PredictedLabel, area-System.Xml]</code></span></summary><div><table><thead><tr></tr></thead><tbody><tr><td>Key</td><td>PredictedLabel</td></tr><tr><td>Value</td><td><span>area-System.Xml</span></td></tr></tbody></table></div></details></td></tr><tr><td>7</td><td><details class=\"dni-treeview\"><summary><span class=\"dni-code-hint\"><code>[Score, Dense vector of size 22]</code></span></summary><div><table><thead><tr></tr></thead><tbody><tr><td>Key</td><td>Score</td></tr><tr><td>Value</td><td><details class=\"dni-treeview\"><summary><span class=\"dni-code-hint\"><code>Dense vector of size 22</code></span></summary><div><table><thead><tr></tr></thead><tbody><tr><td>IsDense</td><td><div class=\"dni-plaintext\"><pre>True</pre></div></td></tr><tr><td>Length</td><td><div class=\"dni-plaintext\"><pre>22</pre></div></td></tr></tbody></table></div></details></td></tr></tbody></table></div></details></td></tr></tbody></table></td></tr></tbody></table></div></details></td></tr><tr><td>4</td><td><details class=\"dni-treeview\"><summary><span class=\"dni-code-hint\"><code>8 columns</code></span></summary><div><table><thead><tr></tr></thead><tbody><tr><td>Values</td><td><table><thead><tr><th><i>index</i></th><th>value</th></tr></thead><tbody><tr><td>0</td><td><details class=\"dni-treeview\"><summary><span class=\"dni-code-hint\"><code>[Area, area-System.Runtime]</code></span></summary><div><table><thead><tr></tr></thead><tbody><tr><td>Key</td><td>Area</td></tr><tr><td>Value</td><td><span>area-System.Runtime</span></td></tr></tbody></table></div></details></td></tr><tr><td>1</td><td><details class=\"dni-treeview\"><summary><span class=\"dni-code-hint\"><code>[Area, 14]</code></span></summary><div><table><thead><tr></tr></thead><tbody><tr><td>Key</td><td>Area</td></tr><tr><td>Value</td><td><div class=\"dni-plaintext\"><pre>14</pre></div></td></tr></tbody></table></div></details></td></tr><tr><td>2</td><td><details class=\"dni-treeview\"><summary><span class=\"dni-code-hint\"><code>[Title, Consider adding API to return common Funcs and Actions without reallocating]</code></span></summary><div><table><thead><tr></tr></thead><tbody><tr><td>Key</td><td>Title</td></tr><tr><td>Value</td><td><span>Consider adding API to return common Funcs and Actions without reallocating</span></td></tr></tbody></table></div></details></td></tr><tr><td>3</td><td><details class=\"dni-treeview\"><summary><span class=\"dni-code-hint\"><code>[Title, Sparse vector of size 67785, 83 explicit values]</code></span></summary><div><table><thead><tr></tr></thead><tbody><tr><td>Key</td><td>Title</td></tr><tr><td>Value</td><td><details class=\"dni-treeview\"><summary><span class=\"dni-code-hint\"><code>Sparse vector of size 67785, 83 explicit values</code></span></summary><div><table><thead><tr></tr></thead><tbody><tr><td>IsDense</td><td><div class=\"dni-plaintext\"><pre>False</pre></div></td></tr><tr><td>Length</td><td><div class=\"dni-plaintext\"><pre>67785</pre></div></td></tr></tbody></table></div></details></td></tr></tbody></table></div></details></td></tr><tr><td>4</td><td><details class=\"dni-treeview\"><summary><span class=\"dni-code-hint\"><code>[Features, Sparse vector of size 67785, 83 explicit values]</code></span></summary><div><table><thead><tr></tr></thead><tbody><tr><td>Key</td><td>Features</td></tr><tr><td>Value</td><td><details class=\"dni-treeview\"><summary><span class=\"dni-code-hint\"><code>Sparse vector of size 67785, 83 explicit values</code></span></summary><div><table><thead><tr></tr></thead><tbody><tr><td>IsDense</td><td><div class=\"dni-plaintext\"><pre>False</pre></div></td></tr><tr><td>Length</td><td><div class=\"dni-plaintext\"><pre>67785</pre></div></td></tr></tbody></table></div></details></td></tr></tbody></table></div></details></td></tr><tr><td>5</td><td><details class=\"dni-treeview\"><summary><span class=\"dni-code-hint\"><code>[PredictedLabel, 17]</code></span></summary><div><table><thead><tr></tr></thead><tbody><tr><td>Key</td><td>PredictedLabel</td></tr><tr><td>Value</td><td><div class=\"dni-plaintext\"><pre>17</pre></div></td></tr></tbody></table></div></details></td></tr><tr><td>6</td><td><details class=\"dni-treeview\"><summary><span class=\"dni-code-hint\"><code>[PredictedLabel, area-System.Net]</code></span></summary><div><table><thead><tr></tr></thead><tbody><tr><td>Key</td><td>PredictedLabel</td></tr><tr><td>Value</td><td><span>area-System.Net</span></td></tr></tbody></table></div></details></td></tr><tr><td>7</td><td><details class=\"dni-treeview\"><summary><span class=\"dni-code-hint\"><code>[Score, Dense vector of size 22]</code></span></summary><div><table><thead><tr></tr></thead><tbody><tr><td>Key</td><td>Score</td></tr><tr><td>Value</td><td><details class=\"dni-treeview\"><summary><span class=\"dni-code-hint\"><code>Dense vector of size 22</code></span></summary><div><table><thead><tr></tr></thead><tbody><tr><td>IsDense</td><td><div class=\"dni-plaintext\"><pre>True</pre></div></td></tr><tr><td>Length</td><td><div class=\"dni-plaintext\"><pre>22</pre></div></td></tr></tbody></table></div></details></td></tr></tbody></table></div></details></td></tr></tbody></table></td></tr></tbody></table></div></details></td></tr><tr><td>5</td><td><details class=\"dni-treeview\"><summary><span class=\"dni-code-hint\"><code>8 columns</code></span></summary><div><table><thead><tr></tr></thead><tbody><tr><td>Values</td><td><table><thead><tr><th><i>index</i></th><th>value</th></tr></thead><tbody><tr><td>0</td><td><details class=\"dni-treeview\"><summary><span class=\"dni-code-hint\"><code>[Area, area-System.Text]</code></span></summary><div><table><thead><tr></tr></thead><tbody><tr><td>Key</td><td>Area</td></tr><tr><td>Value</td><td><span>area-System.Text</span></td></tr></tbody></table></div></details></td></tr><tr><td>1</td><td><details class=\"dni-treeview\"><summary><span class=\"dni-code-hint\"><code>[Area, 8]</code></span></summary><div><table><thead><tr></tr></thead><tbody><tr><td>Key</td><td>Area</td></tr><tr><td>Value</td><td><div class=\"dni-plaintext\"><pre>8</pre></div></td></tr></tbody></table></div></details></td></tr><tr><td>2</td><td><details class=\"dni-treeview\"><summary><span class=\"dni-code-hint\"><code>[Title, Improve performance of Regex ctor and IsMatch]</code></span></summary><div><table><thead><tr></tr></thead><tbody><tr><td>Key</td><td>Title</td></tr><tr><td>Value</td><td><span>Improve performance of Regex ctor and IsMatch</span></td></tr></tbody></table></div></details></td></tr><tr><td>3</td><td><details class=\"dni-treeview\"><summary><span class=\"dni-code-hint\"><code>[Title, Sparse vector of size 67785, 54 explicit values]</code></span></summary><div><table><thead><tr></tr></thead><tbody><tr><td>Key</td><td>Title</td></tr><tr><td>Value</td><td><details class=\"dni-treeview\"><summary><span class=\"dni-code-hint\"><code>Sparse vector of size 67785, 54 explicit values</code></span></summary><div><table><thead><tr></tr></thead><tbody><tr><td>IsDense</td><td><div class=\"dni-plaintext\"><pre>False</pre></div></td></tr><tr><td>Length</td><td><div class=\"dni-plaintext\"><pre>67785</pre></div></td></tr></tbody></table></div></details></td></tr></tbody></table></div></details></td></tr><tr><td>4</td><td><details class=\"dni-treeview\"><summary><span class=\"dni-code-hint\"><code>[Features, Sparse vector of size 67785, 54 explicit values]</code></span></summary><div><table><thead><tr></tr></thead><tbody><tr><td>Key</td><td>Features</td></tr><tr><td>Value</td><td><details class=\"dni-treeview\"><summary><span class=\"dni-code-hint\"><code>Sparse vector of size 67785, 54 explicit values</code></span></summary><div><table><thead><tr></tr></thead><tbody><tr><td>IsDense</td><td><div class=\"dni-plaintext\"><pre>False</pre></div></td></tr><tr><td>Length</td><td><div class=\"dni-plaintext\"><pre>67785</pre></div></td></tr></tbody></table></div></details></td></tr></tbody></table></div></details></td></tr><tr><td>5</td><td><details class=\"dni-treeview\"><summary><span class=\"dni-code-hint\"><code>[PredictedLabel, 8]</code></span></summary><div><table><thead><tr></tr></thead><tbody><tr><td>Key</td><td>PredictedLabel</td></tr><tr><td>Value</td><td><div class=\"dni-plaintext\"><pre>8</pre></div></td></tr></tbody></table></div></details></td></tr><tr><td>6</td><td><details class=\"dni-treeview\"><summary><span class=\"dni-code-hint\"><code>[PredictedLabel, area-System.Text]</code></span></summary><div><table><thead><tr></tr></thead><tbody><tr><td>Key</td><td>PredictedLabel</td></tr><tr><td>Value</td><td><span>area-System.Text</span></td></tr></tbody></table></div></details></td></tr><tr><td>7</td><td><details class=\"dni-treeview\"><summary><span class=\"dni-code-hint\"><code>[Score, Dense vector of size 22]</code></span></summary><div><table><thead><tr></tr></thead><tbody><tr><td>Key</td><td>Score</td></tr><tr><td>Value</td><td><details class=\"dni-treeview\"><summary><span class=\"dni-code-hint\"><code>Dense vector of size 22</code></span></summary><div><table><thead><tr></tr></thead><tbody><tr><td>IsDense</td><td><div class=\"dni-plaintext\"><pre>True</pre></div></td></tr><tr><td>Length</td><td><div class=\"dni-plaintext\"><pre>22</pre></div></td></tr></tbody></table></div></details></td></tr></tbody></table></div></details></td></tr></tbody></table></td></tr></tbody></table></div></details></td></tr><tr><td>6</td><td><details class=\"dni-treeview\"><summary><span class=\"dni-code-hint\"><code>8 columns</code></span></summary><div><table><thead><tr></tr></thead><tbody><tr><td>Values</td><td><table><thead><tr><th><i>index</i></th><th>value</th></tr></thead><tbody><tr><td>0</td><td><details class=\"dni-treeview\"><summary><span class=\"dni-code-hint\"><code>[Area, area-System.Numerics]</code></span></summary><div><table><thead><tr></tr></thead><tbody><tr><td>Key</td><td>Area</td></tr><tr><td>Value</td><td><span>area-System.Numerics</span></td></tr></tbody></table></div></details></td></tr><tr><td>1</td><td><details class=\"dni-treeview\"><summary><span class=\"dni-code-hint\"><code>[Area, 2]</code></span></summary><div><table><thead><tr></tr></thead><tbody><tr><td>Key</td><td>Area</td></tr><tr><td>Value</td><td><div class=\"dni-plaintext\"><pre>2</pre></div></td></tr></tbody></table></div></details></td></tr><tr><td>2</td><td><details class=\"dni-treeview\"><summary><span class=\"dni-code-hint\"><code>[Title, Some System.Numerics.Vector tests are disabled without comment]</code></span></summary><div><table><thead><tr></tr></thead><tbody><tr><td>Key</td><td>Title</td></tr><tr><td>Value</td><td><span>Some System.Numerics.Vector tests are disabled without comment</span></td></tr></tbody></table></div></details></td></tr><tr><td>3</td><td><details class=\"dni-treeview\"><summary><span class=\"dni-code-hint\"><code>[Title, Sparse vector of size 67785, 73 explicit values]</code></span></summary><div><table><thead><tr></tr></thead><tbody><tr><td>Key</td><td>Title</td></tr><tr><td>Value</td><td><details class=\"dni-treeview\"><summary><span class=\"dni-code-hint\"><code>Sparse vector of size 67785, 73 explicit values</code></span></summary><div><table><thead><tr></tr></thead><tbody><tr><td>IsDense</td><td><div class=\"dni-plaintext\"><pre>False</pre></div></td></tr><tr><td>Length</td><td><div class=\"dni-plaintext\"><pre>67785</pre></div></td></tr></tbody></table></div></details></td></tr></tbody></table></div></details></td></tr><tr><td>4</td><td><details class=\"dni-treeview\"><summary><span class=\"dni-code-hint\"><code>[Features, Sparse vector of size 67785, 73 explicit values]</code></span></summary><div><table><thead><tr></tr></thead><tbody><tr><td>Key</td><td>Features</td></tr><tr><td>Value</td><td><details class=\"dni-treeview\"><summary><span class=\"dni-code-hint\"><code>Sparse vector of size 67785, 73 explicit values</code></span></summary><div><table><thead><tr></tr></thead><tbody><tr><td>IsDense</td><td><div class=\"dni-plaintext\"><pre>False</pre></div></td></tr><tr><td>Length</td><td><div class=\"dni-plaintext\"><pre>67785</pre></div></td></tr></tbody></table></div></details></td></tr></tbody></table></div></details></td></tr><tr><td>5</td><td><details class=\"dni-treeview\"><summary><span class=\"dni-code-hint\"><code>[PredictedLabel, 2]</code></span></summary><div><table><thead><tr></tr></thead><tbody><tr><td>Key</td><td>PredictedLabel</td></tr><tr><td>Value</td><td><div class=\"dni-plaintext\"><pre>2</pre></div></td></tr></tbody></table></div></details></td></tr><tr><td>6</td><td><details class=\"dni-treeview\"><summary><span class=\"dni-code-hint\"><code>[PredictedLabel, area-System.Numerics]</code></span></summary><div><table><thead><tr></tr></thead><tbody><tr><td>Key</td><td>PredictedLabel</td></tr><tr><td>Value</td><td><span>area-System.Numerics</span></td></tr></tbody></table></div></details></td></tr><tr><td>7</td><td><details class=\"dni-treeview\"><summary><span class=\"dni-code-hint\"><code>[Score, Dense vector of size 22]</code></span></summary><div><table><thead><tr></tr></thead><tbody><tr><td>Key</td><td>Score</td></tr><tr><td>Value</td><td><details class=\"dni-treeview\"><summary><span class=\"dni-code-hint\"><code>Dense vector of size 22</code></span></summary><div><table><thead><tr></tr></thead><tbody><tr><td>IsDense</td><td><div class=\"dni-plaintext\"><pre>True</pre></div></td></tr><tr><td>Length</td><td><div class=\"dni-plaintext\"><pre>22</pre></div></td></tr></tbody></table></div></details></td></tr></tbody></table></div></details></td></tr></tbody></table></td></tr></tbody></table></div></details></td></tr><tr><td>7</td><td><details class=\"dni-treeview\"><summary><span class=\"dni-code-hint\"><code>8 columns</code></span></summary><div><table><thead><tr></tr></thead><tbody><tr><td>Values</td><td><table><thead><tr><th><i>index</i></th><th>value</th></tr></thead><tbody><tr><td>0</td><td><details class=\"dni-treeview\"><summary><span class=\"dni-code-hint\"><code>[Area, area-System.Linq]</code></span></summary><div><table><thead><tr></tr></thead><tbody><tr><td>Key</td><td>Area</td></tr><tr><td>Value</td><td><span>area-System.Linq</span></td></tr></tbody></table></div></details></td></tr><tr><td>1</td><td><details class=\"dni-treeview\"><summary><span class=\"dni-code-hint\"><code>[Area, 5]</code></span></summary><div><table><thead><tr></tr></thead><tbody><tr><td>Key</td><td>Area</td></tr><tr><td>Value</td><td><div class=\"dni-plaintext\"><pre>5</pre></div></td></tr></tbody></table></div></details></td></tr><tr><td>2</td><td><details class=\"dni-treeview\"><summary><span class=\"dni-code-hint\"><code>[Title, Fix multiple projects for optimizations, debug/trace, etc.]</code></span></summary><div><table><thead><tr></tr></thead><tbody><tr><td>Key</td><td>Title</td></tr><tr><td>Value</td><td><span>Fix multiple projects for optimizations, debug/trace, etc.</span></td></tr></tbody></table></div></details></td></tr><tr><td>3</td><td><details class=\"dni-treeview\"><summary><span class=\"dni-code-hint\"><code>[Title, Sparse vector of size 67785, 64 explicit values]</code></span></summary><div><table><thead><tr></tr></thead><tbody><tr><td>Key</td><td>Title</td></tr><tr><td>Value</td><td><details class=\"dni-treeview\"><summary><span class=\"dni-code-hint\"><code>Sparse vector of size 67785, 64 explicit values</code></span></summary><div><table><thead><tr></tr></thead><tbody><tr><td>IsDense</td><td><div class=\"dni-plaintext\"><pre>False</pre></div></td></tr><tr><td>Length</td><td><div class=\"dni-plaintext\"><pre>67785</pre></div></td></tr></tbody></table></div></details></td></tr></tbody></table></div></details></td></tr><tr><td>4</td><td><details class=\"dni-treeview\"><summary><span class=\"dni-code-hint\"><code>[Features, Sparse vector of size 67785, 64 explicit values]</code></span></summary><div><table><thead><tr></tr></thead><tbody><tr><td>Key</td><td>Features</td></tr><tr><td>Value</td><td><details class=\"dni-treeview\"><summary><span class=\"dni-code-hint\"><code>Sparse vector of size 67785, 64 explicit values</code></span></summary><div><table><thead><tr></tr></thead><tbody><tr><td>IsDense</td><td><div class=\"dni-plaintext\"><pre>False</pre></div></td></tr><tr><td>Length</td><td><div class=\"dni-plaintext\"><pre>67785</pre></div></td></tr></tbody></table></div></details></td></tr></tbody></table></div></details></td></tr><tr><td>5</td><td><details class=\"dni-treeview\"><summary><span class=\"dni-code-hint\"><code>[PredictedLabel, 4]</code></span></summary><div><table><thead><tr></tr></thead><tbody><tr><td>Key</td><td>PredictedLabel</td></tr><tr><td>Value</td><td><div class=\"dni-plaintext\"><pre>4</pre></div></td></tr></tbody></table></div></details></td></tr><tr><td>6</td><td><details class=\"dni-treeview\"><summary><span class=\"dni-code-hint\"><code>[PredictedLabel, area-Infrastructure]</code></span></summary><div><table><thead><tr></tr></thead><tbody><tr><td>Key</td><td>PredictedLabel</td></tr><tr><td>Value</td><td><span>area-Infrastructure</span></td></tr></tbody></table></div></details></td></tr><tr><td>7</td><td><details class=\"dni-treeview\"><summary><span class=\"dni-code-hint\"><code>[Score, Dense vector of size 22]</code></span></summary><div><table><thead><tr></tr></thead><tbody><tr><td>Key</td><td>Score</td></tr><tr><td>Value</td><td><details class=\"dni-treeview\"><summary><span class=\"dni-code-hint\"><code>Dense vector of size 22</code></span></summary><div><table><thead><tr></tr></thead><tbody><tr><td>IsDense</td><td><div class=\"dni-plaintext\"><pre>True</pre></div></td></tr><tr><td>Length</td><td><div class=\"dni-plaintext\"><pre>22</pre></div></td></tr></tbody></table></div></details></td></tr></tbody></table></div></details></td></tr></tbody></table></td></tr></tbody></table></div></details></td></tr><tr><td>8</td><td><details class=\"dni-treeview\"><summary><span class=\"dni-code-hint\"><code>8 columns</code></span></summary><div><table><thead><tr></tr></thead><tbody><tr><td>Values</td><td><table><thead><tr><th><i>index</i></th><th>value</th></tr></thead><tbody><tr><td>0</td><td><details class=\"dni-treeview\"><summary><span class=\"dni-code-hint\"><code>[Area, area-Meta]</code></span></summary><div><table><thead><tr></tr></thead><tbody><tr><td>Key</td><td>Area</td></tr><tr><td>Value</td><td><span>area-Meta</span></td></tr></tbody></table></div></details></td></tr><tr><td>1</td><td><details class=\"dni-treeview\"><summary><span class=\"dni-code-hint\"><code>[Area, 3]</code></span></summary><div><table><thead><tr></tr></thead><tbody><tr><td>Key</td><td>Area</td></tr><tr><td>Value</td><td><div class=\"dni-plaintext\"><pre>3</pre></div></td></tr></tbody></table></div></details></td></tr><tr><td>2</td><td><details class=\"dni-treeview\"><summary><span class=\"dni-code-hint\"><code>[Title, Removing `readonly` from a field can be a breaking change]</code></span></summary><div><table><thead><tr></tr></thead><tbody><tr><td>Key</td><td>Title</td></tr><tr><td>Value</td><td><span>Removing `readonly` from a field can be a breaking change</span></td></tr></tbody></table></div></details></td></tr><tr><td>3</td><td><details class=\"dni-treeview\"><summary><span class=\"dni-code-hint\"><code>[Title, Sparse vector of size 67785, 67 explicit values]</code></span></summary><div><table><thead><tr></tr></thead><tbody><tr><td>Key</td><td>Title</td></tr><tr><td>Value</td><td><details class=\"dni-treeview\"><summary><span class=\"dni-code-hint\"><code>Sparse vector of size 67785, 67 explicit values</code></span></summary><div><table><thead><tr></tr></thead><tbody><tr><td>IsDense</td><td><div class=\"dni-plaintext\"><pre>False</pre></div></td></tr><tr><td>Length</td><td><div class=\"dni-plaintext\"><pre>67785</pre></div></td></tr></tbody></table></div></details></td></tr></tbody></table></div></details></td></tr><tr><td>4</td><td><details class=\"dni-treeview\"><summary><span class=\"dni-code-hint\"><code>[Features, Sparse vector of size 67785, 67 explicit values]</code></span></summary><div><table><thead><tr></tr></thead><tbody><tr><td>Key</td><td>Features</td></tr><tr><td>Value</td><td><details class=\"dni-treeview\"><summary><span class=\"dni-code-hint\"><code>Sparse vector of size 67785, 67 explicit values</code></span></summary><div><table><thead><tr></tr></thead><tbody><tr><td>IsDense</td><td><div class=\"dni-plaintext\"><pre>False</pre></div></td></tr><tr><td>Length</td><td><div class=\"dni-plaintext\"><pre>67785</pre></div></td></tr></tbody></table></div></details></td></tr></tbody></table></div></details></td></tr><tr><td>5</td><td><details class=\"dni-treeview\"><summary><span class=\"dni-code-hint\"><code>[PredictedLabel, 17]</code></span></summary><div><table><thead><tr></tr></thead><tbody><tr><td>Key</td><td>PredictedLabel</td></tr><tr><td>Value</td><td><div class=\"dni-plaintext\"><pre>17</pre></div></td></tr></tbody></table></div></details></td></tr><tr><td>6</td><td><details class=\"dni-treeview\"><summary><span class=\"dni-code-hint\"><code>[PredictedLabel, area-System.Net]</code></span></summary><div><table><thead><tr></tr></thead><tbody><tr><td>Key</td><td>PredictedLabel</td></tr><tr><td>Value</td><td><span>area-System.Net</span></td></tr></tbody></table></div></details></td></tr><tr><td>7</td><td><details class=\"dni-treeview\"><summary><span class=\"dni-code-hint\"><code>[Score, Dense vector of size 22]</code></span></summary><div><table><thead><tr></tr></thead><tbody><tr><td>Key</td><td>Score</td></tr><tr><td>Value</td><td><details class=\"dni-treeview\"><summary><span class=\"dni-code-hint\"><code>Dense vector of size 22</code></span></summary><div><table><thead><tr></tr></thead><tbody><tr><td>IsDense</td><td><div class=\"dni-plaintext\"><pre>True</pre></div></td></tr><tr><td>Length</td><td><div class=\"dni-plaintext\"><pre>22</pre></div></td></tr></tbody></table></div></details></td></tr></tbody></table></div></details></td></tr></tbody></table></td></tr></tbody></table></div></details></td></tr><tr><td>9</td><td><details class=\"dni-treeview\"><summary><span class=\"dni-code-hint\"><code>8 columns</code></span></summary><div><table><thead><tr></tr></thead><tbody><tr><td>Values</td><td><table><thead><tr><th><i>index</i></th><th>value</th></tr></thead><tbody><tr><td>0</td><td><details class=\"dni-treeview\"><summary><span class=\"dni-code-hint\"><code>[Area, area-System.Text]</code></span></summary><div><table><thead><tr></tr></thead><tbody><tr><td>Key</td><td>Area</td></tr><tr><td>Value</td><td><span>area-System.Text</span></td></tr></tbody></table></div></details></td></tr><tr><td>1</td><td><details class=\"dni-treeview\"><summary><span class=\"dni-code-hint\"><code>[Area, 8]</code></span></summary><div><table><thead><tr></tr></thead><tbody><tr><td>Key</td><td>Area</td></tr><tr><td>Value</td><td><div class=\"dni-plaintext\"><pre>8</pre></div></td></tr></tbody></table></div></details></td></tr><tr><td>2</td><td><details class=\"dni-treeview\"><summary><span class=\"dni-code-hint\"><code>[Title, Regex should provide a validation method]</code></span></summary><div><table><thead><tr></tr></thead><tbody><tr><td>Key</td><td>Title</td></tr><tr><td>Value</td><td><span>Regex should provide a validation method</span></td></tr></tbody></table></div></details></td></tr><tr><td>3</td><td><details class=\"dni-treeview\"><summary><span class=\"dni-code-hint\"><code>[Title, Sparse vector of size 67785, 48 explicit values]</code></span></summary><div><table><thead><tr></tr></thead><tbody><tr><td>Key</td><td>Title</td></tr><tr><td>Value</td><td><details class=\"dni-treeview\"><summary><span class=\"dni-code-hint\"><code>Sparse vector of size 67785, 48 explicit values</code></span></summary><div><table><thead><tr></tr></thead><tbody><tr><td>IsDense</td><td><div class=\"dni-plaintext\"><pre>False</pre></div></td></tr><tr><td>Length</td><td><div class=\"dni-plaintext\"><pre>67785</pre></div></td></tr></tbody></table></div></details></td></tr></tbody></table></div></details></td></tr><tr><td>4</td><td><details class=\"dni-treeview\"><summary><span class=\"dni-code-hint\"><code>[Features, Sparse vector of size 67785, 48 explicit values]</code></span></summary><div><table><thead><tr></tr></thead><tbody><tr><td>Key</td><td>Features</td></tr><tr><td>Value</td><td><details class=\"dni-treeview\"><summary><span class=\"dni-code-hint\"><code>Sparse vector of size 67785, 48 explicit values</code></span></summary><div><table><thead><tr></tr></thead><tbody><tr><td>IsDense</td><td><div class=\"dni-plaintext\"><pre>False</pre></div></td></tr><tr><td>Length</td><td><div class=\"dni-plaintext\"><pre>67785</pre></div></td></tr></tbody></table></div></details></td></tr></tbody></table></div></details></td></tr><tr><td>5</td><td><details class=\"dni-treeview\"><summary><span class=\"dni-code-hint\"><code>[PredictedLabel, 8]</code></span></summary><div><table><thead><tr></tr></thead><tbody><tr><td>Key</td><td>PredictedLabel</td></tr><tr><td>Value</td><td><div class=\"dni-plaintext\"><pre>8</pre></div></td></tr></tbody></table></div></details></td></tr><tr><td>6</td><td><details class=\"dni-treeview\"><summary><span class=\"dni-code-hint\"><code>[PredictedLabel, area-System.Text]</code></span></summary><div><table><thead><tr></tr></thead><tbody><tr><td>Key</td><td>PredictedLabel</td></tr><tr><td>Value</td><td><span>area-System.Text</span></td></tr></tbody></table></div></details></td></tr><tr><td>7</td><td><details class=\"dni-treeview\"><summary><span class=\"dni-code-hint\"><code>[Score, Dense vector of size 22]</code></span></summary><div><table><thead><tr></tr></thead><tbody><tr><td>Key</td><td>Score</td></tr><tr><td>Value</td><td><details class=\"dni-treeview\"><summary><span class=\"dni-code-hint\"><code>Dense vector of size 22</code></span></summary><div><table><thead><tr></tr></thead><tbody><tr><td>IsDense</td><td><div class=\"dni-plaintext\"><pre>True</pre></div></td></tr><tr><td>Length</td><td><div class=\"dni-plaintext\"><pre>22</pre></div></td></tr></tbody></table></div></details></td></tr></tbody></table></div></details></td></tr></tbody></table></td></tr></tbody></table></div></details></td></tr><tr><td>10</td><td><details class=\"dni-treeview\"><summary><span class=\"dni-code-hint\"><code>8 columns</code></span></summary><div><table><thead><tr></tr></thead><tbody><tr><td>Values</td><td><table><thead><tr><th><i>index</i></th><th>value</th></tr></thead><tbody><tr><td>0</td><td><details class=\"dni-treeview\"><summary><span class=\"dni-code-hint\"><code>[Area, area-Meta]</code></span></summary><div><table><thead><tr></tr></thead><tbody><tr><td>Key</td><td>Area</td></tr><tr><td>Value</td><td><span>area-Meta</span></td></tr></tbody></table></div></details></td></tr><tr><td>1</td><td><details class=\"dni-treeview\"><summary><span class=\"dni-code-hint\"><code>[Area, 3]</code></span></summary><div><table><thead><tr></tr></thead><tbody><tr><td>Key</td><td>Area</td></tr><tr><td>Value</td><td><div class=\"dni-plaintext\"><pre>3</pre></div></td></tr></tbody></table></div></details></td></tr><tr><td>2</td><td><details class=\"dni-treeview\"><summary><span class=\"dni-code-hint\"><code>[Title, Is the corefx repo or the dotnet org a good place for key community projects?]</code></span></summary><div><table><thead><tr></tr></thead><tbody><tr><td>Key</td><td>Title</td></tr><tr><td>Value</td><td><span>Is the corefx repo or the dotnet org a good place for key community projects?</span></td></tr></tbody></table></div></details></td></tr><tr><td>3</td><td><details class=\"dni-treeview\"><summary><span class=\"dni-code-hint\"><code>[Title, Sparse vector of size 67785, 87 explicit values]</code></span></summary><div><table><thead><tr></tr></thead><tbody><tr><td>Key</td><td>Title</td></tr><tr><td>Value</td><td><details class=\"dni-treeview\"><summary><span class=\"dni-code-hint\"><code>Sparse vector of size 67785, 87 explicit values</code></span></summary><div><table><thead><tr></tr></thead><tbody><tr><td>IsDense</td><td><div class=\"dni-plaintext\"><pre>False</pre></div></td></tr><tr><td>Length</td><td><div class=\"dni-plaintext\"><pre>67785</pre></div></td></tr></tbody></table></div></details></td></tr></tbody></table></div></details></td></tr><tr><td>4</td><td><details class=\"dni-treeview\"><summary><span class=\"dni-code-hint\"><code>[Features, Sparse vector of size 67785, 87 explicit values]</code></span></summary><div><table><thead><tr></tr></thead><tbody><tr><td>Key</td><td>Features</td></tr><tr><td>Value</td><td><details class=\"dni-treeview\"><summary><span class=\"dni-code-hint\"><code>Sparse vector of size 67785, 87 explicit values</code></span></summary><div><table><thead><tr></tr></thead><tbody><tr><td>IsDense</td><td><div class=\"dni-plaintext\"><pre>False</pre></div></td></tr><tr><td>Length</td><td><div class=\"dni-plaintext\"><pre>67785</pre></div></td></tr></tbody></table></div></details></td></tr></tbody></table></div></details></td></tr><tr><td>5</td><td><details class=\"dni-treeview\"><summary><span class=\"dni-code-hint\"><code>[PredictedLabel, 9]</code></span></summary><div><table><thead><tr></tr></thead><tbody><tr><td>Key</td><td>PredictedLabel</td></tr><tr><td>Value</td><td><div class=\"dni-plaintext\"><pre>9</pre></div></td></tr></tbody></table></div></details></td></tr><tr><td>6</td><td><details class=\"dni-treeview\"><summary><span class=\"dni-code-hint\"><code>[PredictedLabel, area-System.Collections]</code></span></summary><div><table><thead><tr></tr></thead><tbody><tr><td>Key</td><td>PredictedLabel</td></tr><tr><td>Value</td><td><span>area-System.Collections</span></td></tr></tbody></table></div></details></td></tr><tr><td>7</td><td><details class=\"dni-treeview\"><summary><span class=\"dni-code-hint\"><code>[Score, Dense vector of size 22]</code></span></summary><div><table><thead><tr></tr></thead><tbody><tr><td>Key</td><td>Score</td></tr><tr><td>Value</td><td><details class=\"dni-treeview\"><summary><span class=\"dni-code-hint\"><code>Dense vector of size 22</code></span></summary><div><table><thead><tr></tr></thead><tbody><tr><td>IsDense</td><td><div class=\"dni-plaintext\"><pre>True</pre></div></td></tr><tr><td>Length</td><td><div class=\"dni-plaintext\"><pre>22</pre></div></td></tr></tbody></table></div></details></td></tr></tbody></table></div></details></td></tr></tbody></table></td></tr></tbody></table></div></details></td></tr><tr><td>11</td><td><details class=\"dni-treeview\"><summary><span class=\"dni-code-hint\"><code>8 columns</code></span></summary><div><table><thead><tr></tr></thead><tbody><tr><td>Values</td><td><table><thead><tr><th><i>index</i></th><th>value</th></tr></thead><tbody><tr><td>0</td><td><details class=\"dni-treeview\"><summary><span class=\"dni-code-hint\"><code>[Area, area-System.Numerics]</code></span></summary><div><table><thead><tr></tr></thead><tbody><tr><td>Key</td><td>Area</td></tr><tr><td>Value</td><td><span>area-System.Numerics</span></td></tr></tbody></table></div></details></td></tr><tr><td>1</td><td><details class=\"dni-treeview\"><summary><span class=\"dni-code-hint\"><code>[Area, 2]</code></span></summary><div><table><thead><tr></tr></thead><tbody><tr><td>Key</td><td>Area</td></tr><tr><td>Value</td><td><div class=\"dni-plaintext\"><pre>2</pre></div></td></tr></tbody></table></div></details></td></tr><tr><td>2</td><td><details class=\"dni-treeview\"><summary><span class=\"dni-code-hint\"><code>[Title, System.Numerics.Vectors Fails to Load W/ .NET 4.6 Preview Installed]</code></span></summary><div><table><thead><tr></tr></thead><tbody><tr><td>Key</td><td>Title</td></tr><tr><td>Value</td><td><span>System.Numerics.Vectors Fails to Load W/ .NET 4.6 Preview Installed</span></td></tr></tbody></table></div></details></td></tr><tr><td>3</td><td><details class=\"dni-treeview\"><summary><span class=\"dni-code-hint\"><code>[Title, Sparse vector of size 67785, 78 explicit values]</code></span></summary><div><table><thead><tr></tr></thead><tbody><tr><td>Key</td><td>Title</td></tr><tr><td>Value</td><td><details class=\"dni-treeview\"><summary><span class=\"dni-code-hint\"><code>Sparse vector of size 67785, 78 explicit values</code></span></summary><div><table><thead><tr></tr></thead><tbody><tr><td>IsDense</td><td><div class=\"dni-plaintext\"><pre>False</pre></div></td></tr><tr><td>Length</td><td><div class=\"dni-plaintext\"><pre>67785</pre></div></td></tr></tbody></table></div></details></td></tr></tbody></table></div></details></td></tr><tr><td>4</td><td><details class=\"dni-treeview\"><summary><span class=\"dni-code-hint\"><code>[Features, Sparse vector of size 67785, 78 explicit values]</code></span></summary><div><table><thead><tr></tr></thead><tbody><tr><td>Key</td><td>Features</td></tr><tr><td>Value</td><td><details class=\"dni-treeview\"><summary><span class=\"dni-code-hint\"><code>Sparse vector of size 67785, 78 explicit values</code></span></summary><div><table><thead><tr></tr></thead><tbody><tr><td>IsDense</td><td><div class=\"dni-plaintext\"><pre>False</pre></div></td></tr><tr><td>Length</td><td><div class=\"dni-plaintext\"><pre>67785</pre></div></td></tr></tbody></table></div></details></td></tr></tbody></table></div></details></td></tr><tr><td>5</td><td><details class=\"dni-treeview\"><summary><span class=\"dni-code-hint\"><code>[PredictedLabel, 2]</code></span></summary><div><table><thead><tr></tr></thead><tbody><tr><td>Key</td><td>PredictedLabel</td></tr><tr><td>Value</td><td><div class=\"dni-plaintext\"><pre>2</pre></div></td></tr></tbody></table></div></details></td></tr><tr><td>6</td><td><details class=\"dni-treeview\"><summary><span class=\"dni-code-hint\"><code>[PredictedLabel, area-System.Numerics]</code></span></summary><div><table><thead><tr></tr></thead><tbody><tr><td>Key</td><td>PredictedLabel</td></tr><tr><td>Value</td><td><span>area-System.Numerics</span></td></tr></tbody></table></div></details></td></tr><tr><td>7</td><td><details class=\"dni-treeview\"><summary><span class=\"dni-code-hint\"><code>[Score, Dense vector of size 22]</code></span></summary><div><table><thead><tr></tr></thead><tbody><tr><td>Key</td><td>Score</td></tr><tr><td>Value</td><td><details class=\"dni-treeview\"><summary><span class=\"dni-code-hint\"><code>Dense vector of size 22</code></span></summary><div><table><thead><tr></tr></thead><tbody><tr><td>IsDense</td><td><div class=\"dni-plaintext\"><pre>True</pre></div></td></tr><tr><td>Length</td><td><div class=\"dni-plaintext\"><pre>22</pre></div></td></tr></tbody></table></div></details></td></tr></tbody></table></div></details></td></tr></tbody></table></td></tr></tbody></table></div></details></td></tr><tr><td>12</td><td><details class=\"dni-treeview\"><summary><span class=\"dni-code-hint\"><code>8 columns</code></span></summary><div><table><thead><tr></tr></thead><tbody><tr><td>Values</td><td><table><thead><tr><th><i>index</i></th><th>value</th></tr></thead><tbody><tr><td>0</td><td><details class=\"dni-treeview\"><summary><span class=\"dni-code-hint\"><code>[Area, area-System.Net]</code></span></summary><div><table><thead><tr></tr></thead><tbody><tr><td>Key</td><td>Area</td></tr><tr><td>Value</td><td><span>area-System.Net</span></td></tr></tbody></table></div></details></td></tr><tr><td>1</td><td><details class=\"dni-treeview\"><summary><span class=\"dni-code-hint\"><code>[Area, 17]</code></span></summary><div><table><thead><tr></tr></thead><tbody><tr><td>Key</td><td>Area</td></tr><tr><td>Value</td><td><div class=\"dni-plaintext\"><pre>17</pre></div></td></tr></tbody></table></div></details></td></tr><tr><td>2</td><td><details class=\"dni-treeview\"><summary><span class=\"dni-code-hint\"><code>[Title, Ability to set the HttpWebRequest.DefaultMaximumErrorResponseLength on a per request basis]</code></span></summary><div><table><thead><tr></tr></thead><tbody><tr><td>Key</td><td>Title</td></tr><tr><td>Value</td><td><span>Ability to set the HttpWebRequest.DefaultMaximumErrorResponseLength on a per request basis</span></td></tr></tbody></table></div></details></td></tr><tr><td>3</td><td><details class=\"dni-treeview\"><summary><span class=\"dni-code-hint\"><code>[Title, Sparse vector of size 67785, 99 explicit values]</code></span></summary><div><table><thead><tr></tr></thead><tbody><tr><td>Key</td><td>Title</td></tr><tr><td>Value</td><td><details class=\"dni-treeview\"><summary><span class=\"dni-code-hint\"><code>Sparse vector of size 67785, 99 explicit values</code></span></summary><div><table><thead><tr></tr></thead><tbody><tr><td>IsDense</td><td><div class=\"dni-plaintext\"><pre>False</pre></div></td></tr><tr><td>Length</td><td><div class=\"dni-plaintext\"><pre>67785</pre></div></td></tr></tbody></table></div></details></td></tr></tbody></table></div></details></td></tr><tr><td>4</td><td><details class=\"dni-treeview\"><summary><span class=\"dni-code-hint\"><code>[Features, Sparse vector of size 67785, 99 explicit values]</code></span></summary><div><table><thead><tr></tr></thead><tbody><tr><td>Key</td><td>Features</td></tr><tr><td>Value</td><td><details class=\"dni-treeview\"><summary><span class=\"dni-code-hint\"><code>Sparse vector of size 67785, 99 explicit values</code></span></summary><div><table><thead><tr></tr></thead><tbody><tr><td>IsDense</td><td><div class=\"dni-plaintext\"><pre>False</pre></div></td></tr><tr><td>Length</td><td><div class=\"dni-plaintext\"><pre>67785</pre></div></td></tr></tbody></table></div></details></td></tr></tbody></table></div></details></td></tr><tr><td>5</td><td><details class=\"dni-treeview\"><summary><span class=\"dni-code-hint\"><code>[PredictedLabel, 17]</code></span></summary><div><table><thead><tr></tr></thead><tbody><tr><td>Key</td><td>PredictedLabel</td></tr><tr><td>Value</td><td><div class=\"dni-plaintext\"><pre>17</pre></div></td></tr></tbody></table></div></details></td></tr><tr><td>6</td><td><details class=\"dni-treeview\"><summary><span class=\"dni-code-hint\"><code>[PredictedLabel, area-System.Net]</code></span></summary><div><table><thead><tr></tr></thead><tbody><tr><td>Key</td><td>PredictedLabel</td></tr><tr><td>Value</td><td><span>area-System.Net</span></td></tr></tbody></table></div></details></td></tr><tr><td>7</td><td><details class=\"dni-treeview\"><summary><span class=\"dni-code-hint\"><code>[Score, Dense vector of size 22]</code></span></summary><div><table><thead><tr></tr></thead><tbody><tr><td>Key</td><td>Score</td></tr><tr><td>Value</td><td><details class=\"dni-treeview\"><summary><span class=\"dni-code-hint\"><code>Dense vector of size 22</code></span></summary><div><table><thead><tr></tr></thead><tbody><tr><td>IsDense</td><td><div class=\"dni-plaintext\"><pre>True</pre></div></td></tr><tr><td>Length</td><td><div class=\"dni-plaintext\"><pre>22</pre></div></td></tr></tbody></table></div></details></td></tr></tbody></table></div></details></td></tr></tbody></table></td></tr></tbody></table></div></details></td></tr><tr><td>13</td><td><details class=\"dni-treeview\"><summary><span class=\"dni-code-hint\"><code>8 columns</code></span></summary><div><table><thead><tr></tr></thead><tbody><tr><td>Values</td><td><table><thead><tr><th><i>index</i></th><th>value</th></tr></thead><tbody><tr><td>0</td><td><details class=\"dni-treeview\"><summary><span class=\"dni-code-hint\"><code>[Area, area-System.Text]</code></span></summary><div><table><thead><tr></tr></thead><tbody><tr><td>Key</td><td>Area</td></tr><tr><td>Value</td><td><span>area-System.Text</span></td></tr></tbody></table></div></details></td></tr><tr><td>1</td><td><details class=\"dni-treeview\"><summary><span class=\"dni-code-hint\"><code>[Area, 8]</code></span></summary><div><table><thead><tr></tr></thead><tbody><tr><td>Key</td><td>Area</td></tr><tr><td>Value</td><td><div class=\"dni-plaintext\"><pre>8</pre></div></td></tr></tbody></table></div></details></td></tr><tr><td>2</td><td><details class=\"dni-treeview\"><summary><span class=\"dni-code-hint\"><code>[Title, Regex tests intermittently fail due to memory usage]</code></span></summary><div><table><thead><tr></tr></thead><tbody><tr><td>Key</td><td>Title</td></tr><tr><td>Value</td><td><span>Regex tests intermittently fail due to memory usage</span></td></tr></tbody></table></div></details></td></tr><tr><td>3</td><td><details class=\"dni-treeview\"><summary><span class=\"dni-code-hint\"><code>[Title, Sparse vector of size 67785, 63 explicit values]</code></span></summary><div><table><thead><tr></tr></thead><tbody><tr><td>Key</td><td>Title</td></tr><tr><td>Value</td><td><details class=\"dni-treeview\"><summary><span class=\"dni-code-hint\"><code>Sparse vector of size 67785, 63 explicit values</code></span></summary><div><table><thead><tr></tr></thead><tbody><tr><td>IsDense</td><td><div class=\"dni-plaintext\"><pre>False</pre></div></td></tr><tr><td>Length</td><td><div class=\"dni-plaintext\"><pre>67785</pre></div></td></tr></tbody></table></div></details></td></tr></tbody></table></div></details></td></tr><tr><td>4</td><td><details class=\"dni-treeview\"><summary><span class=\"dni-code-hint\"><code>[Features, Sparse vector of size 67785, 63 explicit values]</code></span></summary><div><table><thead><tr></tr></thead><tbody><tr><td>Key</td><td>Features</td></tr><tr><td>Value</td><td><details class=\"dni-treeview\"><summary><span class=\"dni-code-hint\"><code>Sparse vector of size 67785, 63 explicit values</code></span></summary><div><table><thead><tr></tr></thead><tbody><tr><td>IsDense</td><td><div class=\"dni-plaintext\"><pre>False</pre></div></td></tr><tr><td>Length</td><td><div class=\"dni-plaintext\"><pre>67785</pre></div></td></tr></tbody></table></div></details></td></tr></tbody></table></div></details></td></tr><tr><td>5</td><td><details class=\"dni-treeview\"><summary><span class=\"dni-code-hint\"><code>[PredictedLabel, 8]</code></span></summary><div><table><thead><tr></tr></thead><tbody><tr><td>Key</td><td>PredictedLabel</td></tr><tr><td>Value</td><td><div class=\"dni-plaintext\"><pre>8</pre></div></td></tr></tbody></table></div></details></td></tr><tr><td>6</td><td><details class=\"dni-treeview\"><summary><span class=\"dni-code-hint\"><code>[PredictedLabel, area-System.Text]</code></span></summary><div><table><thead><tr></tr></thead><tbody><tr><td>Key</td><td>PredictedLabel</td></tr><tr><td>Value</td><td><span>area-System.Text</span></td></tr></tbody></table></div></details></td></tr><tr><td>7</td><td><details class=\"dni-treeview\"><summary><span class=\"dni-code-hint\"><code>[Score, Dense vector of size 22]</code></span></summary><div><table><thead><tr></tr></thead><tbody><tr><td>Key</td><td>Score</td></tr><tr><td>Value</td><td><details class=\"dni-treeview\"><summary><span class=\"dni-code-hint\"><code>Dense vector of size 22</code></span></summary><div><table><thead><tr></tr></thead><tbody><tr><td>IsDense</td><td><div class=\"dni-plaintext\"><pre>True</pre></div></td></tr><tr><td>Length</td><td><div class=\"dni-plaintext\"><pre>22</pre></div></td></tr></tbody></table></div></details></td></tr></tbody></table></div></details></td></tr></tbody></table></td></tr></tbody></table></div></details></td></tr><tr><td>14</td><td><details class=\"dni-treeview\"><summary><span class=\"dni-code-hint\"><code>8 columns</code></span></summary><div><table><thead><tr></tr></thead><tbody><tr><td>Values</td><td><table><thead><tr><th><i>index</i></th><th>value</th></tr></thead><tbody><tr><td>0</td><td><details class=\"dni-treeview\"><summary><span class=\"dni-code-hint\"><code>[Area, area-Meta]</code></span></summary><div><table><thead><tr></tr></thead><tbody><tr><td>Key</td><td>Area</td></tr><tr><td>Value</td><td><span>area-Meta</span></td></tr></tbody></table></div></details></td></tr><tr><td>1</td><td><details class=\"dni-treeview\"><summary><span class=\"dni-code-hint\"><code>[Area, 3]</code></span></summary><div><table><thead><tr></tr></thead><tbody><tr><td>Key</td><td>Area</td></tr><tr><td>Value</td><td><div class=\"dni-plaintext\"><pre>3</pre></div></td></tr></tbody></table></div></details></td></tr><tr><td>2</td><td><details class=\"dni-treeview\"><summary><span class=\"dni-code-hint\"><code>[Title, Question: Single statement `if` formatting]</code></span></summary><div><table><thead><tr></tr></thead><tbody><tr><td>Key</td><td>Title</td></tr><tr><td>Value</td><td><span>Question: Single statement `if` formatting</span></td></tr></tbody></table></div></details></td></tr><tr><td>3</td><td><details class=\"dni-treeview\"><summary><span class=\"dni-code-hint\"><code>[Title, Sparse vector of size 67785, 43 explicit values]</code></span></summary><div><table><thead><tr></tr></thead><tbody><tr><td>Key</td><td>Title</td></tr><tr><td>Value</td><td><details class=\"dni-treeview\"><summary><span class=\"dni-code-hint\"><code>Sparse vector of size 67785, 43 explicit values</code></span></summary><div><table><thead><tr></tr></thead><tbody><tr><td>IsDense</td><td><div class=\"dni-plaintext\"><pre>False</pre></div></td></tr><tr><td>Length</td><td><div class=\"dni-plaintext\"><pre>67785</pre></div></td></tr></tbody></table></div></details></td></tr></tbody></table></div></details></td></tr><tr><td>4</td><td><details class=\"dni-treeview\"><summary><span class=\"dni-code-hint\"><code>[Features, Sparse vector of size 67785, 43 explicit values]</code></span></summary><div><table><thead><tr></tr></thead><tbody><tr><td>Key</td><td>Features</td></tr><tr><td>Value</td><td><details class=\"dni-treeview\"><summary><span class=\"dni-code-hint\"><code>Sparse vector of size 67785, 43 explicit values</code></span></summary><div><table><thead><tr></tr></thead><tbody><tr><td>IsDense</td><td><div class=\"dni-plaintext\"><pre>False</pre></div></td></tr><tr><td>Length</td><td><div class=\"dni-plaintext\"><pre>67785</pre></div></td></tr></tbody></table></div></details></td></tr></tbody></table></div></details></td></tr><tr><td>5</td><td><details class=\"dni-treeview\"><summary><span class=\"dni-code-hint\"><code>[PredictedLabel, 17]</code></span></summary><div><table><thead><tr></tr></thead><tbody><tr><td>Key</td><td>PredictedLabel</td></tr><tr><td>Value</td><td><div class=\"dni-plaintext\"><pre>17</pre></div></td></tr></tbody></table></div></details></td></tr><tr><td>6</td><td><details class=\"dni-treeview\"><summary><span class=\"dni-code-hint\"><code>[PredictedLabel, area-System.Net]</code></span></summary><div><table><thead><tr></tr></thead><tbody><tr><td>Key</td><td>PredictedLabel</td></tr><tr><td>Value</td><td><span>area-System.Net</span></td></tr></tbody></table></div></details></td></tr><tr><td>7</td><td><details class=\"dni-treeview\"><summary><span class=\"dni-code-hint\"><code>[Score, Dense vector of size 22]</code></span></summary><div><table><thead><tr></tr></thead><tbody><tr><td>Key</td><td>Score</td></tr><tr><td>Value</td><td><details class=\"dni-treeview\"><summary><span class=\"dni-code-hint\"><code>Dense vector of size 22</code></span></summary><div><table><thead><tr></tr></thead><tbody><tr><td>IsDense</td><td><div class=\"dni-plaintext\"><pre>True</pre></div></td></tr><tr><td>Length</td><td><div class=\"dni-plaintext\"><pre>22</pre></div></td></tr></tbody></table></div></details></td></tr></tbody></table></div></details></td></tr></tbody></table></td></tr></tbody></table></div></details></td></tr><tr><td>15</td><td><details class=\"dni-treeview\"><summary><span class=\"dni-code-hint\"><code>8 columns</code></span></summary><div><table><thead><tr></tr></thead><tbody><tr><td>Values</td><td><table><thead><tr><th><i>index</i></th><th>value</th></tr></thead><tbody><tr><td>0</td><td><details class=\"dni-treeview\"><summary><span class=\"dni-code-hint\"><code>[Area, area-Meta]</code></span></summary><div><table><thead><tr></tr></thead><tbody><tr><td>Key</td><td>Area</td></tr><tr><td>Value</td><td><span>area-Meta</span></td></tr></tbody></table></div></details></td></tr><tr><td>1</td><td><details class=\"dni-treeview\"><summary><span class=\"dni-code-hint\"><code>[Area, 3]</code></span></summary><div><table><thead><tr></tr></thead><tbody><tr><td>Key</td><td>Area</td></tr><tr><td>Value</td><td><div class=\"dni-plaintext\"><pre>3</pre></div></td></tr></tbody></table></div></details></td></tr><tr><td>2</td><td><details class=\"dni-treeview\"><summary><span class=\"dni-code-hint\"><code>[Title, Language or BCL data types]</code></span></summary><div><table><thead><tr></tr></thead><tbody><tr><td>Key</td><td>Title</td></tr><tr><td>Value</td><td><span>Language or BCL data types</span></td></tr></tbody></table></div></details></td></tr><tr><td>3</td><td><details class=\"dni-treeview\"><summary><span class=\"dni-code-hint\"><code>[Title, Sparse vector of size 67785, 31 explicit values]</code></span></summary><div><table><thead><tr></tr></thead><tbody><tr><td>Key</td><td>Title</td></tr><tr><td>Value</td><td><details class=\"dni-treeview\"><summary><span class=\"dni-code-hint\"><code>Sparse vector of size 67785, 31 explicit values</code></span></summary><div><table><thead><tr></tr></thead><tbody><tr><td>IsDense</td><td><div class=\"dni-plaintext\"><pre>False</pre></div></td></tr><tr><td>Length</td><td><div class=\"dni-plaintext\"><pre>67785</pre></div></td></tr></tbody></table></div></details></td></tr></tbody></table></div></details></td></tr><tr><td>4</td><td><details class=\"dni-treeview\"><summary><span class=\"dni-code-hint\"><code>[Features, Sparse vector of size 67785, 31 explicit values]</code></span></summary><div><table><thead><tr></tr></thead><tbody><tr><td>Key</td><td>Features</td></tr><tr><td>Value</td><td><details class=\"dni-treeview\"><summary><span class=\"dni-code-hint\"><code>Sparse vector of size 67785, 31 explicit values</code></span></summary><div><table><thead><tr></tr></thead><tbody><tr><td>IsDense</td><td><div class=\"dni-plaintext\"><pre>False</pre></div></td></tr><tr><td>Length</td><td><div class=\"dni-plaintext\"><pre>67785</pre></div></td></tr></tbody></table></div></details></td></tr></tbody></table></div></details></td></tr><tr><td>5</td><td><details class=\"dni-treeview\"><summary><span class=\"dni-code-hint\"><code>[PredictedLabel, 17]</code></span></summary><div><table><thead><tr></tr></thead><tbody><tr><td>Key</td><td>PredictedLabel</td></tr><tr><td>Value</td><td><div class=\"dni-plaintext\"><pre>17</pre></div></td></tr></tbody></table></div></details></td></tr><tr><td>6</td><td><details class=\"dni-treeview\"><summary><span class=\"dni-code-hint\"><code>[PredictedLabel, area-System.Net]</code></span></summary><div><table><thead><tr></tr></thead><tbody><tr><td>Key</td><td>PredictedLabel</td></tr><tr><td>Value</td><td><span>area-System.Net</span></td></tr></tbody></table></div></details></td></tr><tr><td>7</td><td><details class=\"dni-treeview\"><summary><span class=\"dni-code-hint\"><code>[Score, Dense vector of size 22]</code></span></summary><div><table><thead><tr></tr></thead><tbody><tr><td>Key</td><td>Score</td></tr><tr><td>Value</td><td><details class=\"dni-treeview\"><summary><span class=\"dni-code-hint\"><code>Dense vector of size 22</code></span></summary><div><table><thead><tr></tr></thead><tbody><tr><td>IsDense</td><td><div class=\"dni-plaintext\"><pre>True</pre></div></td></tr><tr><td>Length</td><td><div class=\"dni-plaintext\"><pre>22</pre></div></td></tr></tbody></table></div></details></td></tr></tbody></table></div></details></td></tr></tbody></table></td></tr></tbody></table></div></details></td></tr><tr><td>16</td><td><details class=\"dni-treeview\"><summary><span class=\"dni-code-hint\"><code>8 columns</code></span></summary><div><table><thead><tr></tr></thead><tbody><tr><td>Values</td><td><table><thead><tr><th><i>index</i></th><th>value</th></tr></thead><tbody><tr><td>0</td><td><details class=\"dni-treeview\"><summary><span class=\"dni-code-hint\"><code>[Area, area-System.Xml]</code></span></summary><div><table><thead><tr></tr></thead><tbody><tr><td>Key</td><td>Area</td></tr><tr><td>Value</td><td><span>area-System.Xml</span></td></tr></tbody></table></div></details></td></tr><tr><td>1</td><td><details class=\"dni-treeview\"><summary><span class=\"dni-code-hint\"><code>[Area, 1]</code></span></summary><div><table><thead><tr></tr></thead><tbody><tr><td>Key</td><td>Area</td></tr><tr><td>Value</td><td><div class=\"dni-plaintext\"><pre>1</pre></div></td></tr></tbody></table></div></details></td></tr><tr><td>2</td><td><details class=\"dni-treeview\"><summary><span class=\"dni-code-hint\"><code>[Title, Reduce XPath unit tests run time]</code></span></summary><div><table><thead><tr></tr></thead><tbody><tr><td>Key</td><td>Title</td></tr><tr><td>Value</td><td><span>Reduce XPath unit tests run time</span></td></tr></tbody></table></div></details></td></tr><tr><td>3</td><td><details class=\"dni-treeview\"><summary><span class=\"dni-code-hint\"><code>[Title, Sparse vector of size 67785, 40 explicit values]</code></span></summary><div><table><thead><tr></tr></thead><tbody><tr><td>Key</td><td>Title</td></tr><tr><td>Value</td><td><details class=\"dni-treeview\"><summary><span class=\"dni-code-hint\"><code>Sparse vector of size 67785, 40 explicit values</code></span></summary><div><table><thead><tr></tr></thead><tbody><tr><td>IsDense</td><td><div class=\"dni-plaintext\"><pre>False</pre></div></td></tr><tr><td>Length</td><td><div class=\"dni-plaintext\"><pre>67785</pre></div></td></tr></tbody></table></div></details></td></tr></tbody></table></div></details></td></tr><tr><td>4</td><td><details class=\"dni-treeview\"><summary><span class=\"dni-code-hint\"><code>[Features, Sparse vector of size 67785, 40 explicit values]</code></span></summary><div><table><thead><tr></tr></thead><tbody><tr><td>Key</td><td>Features</td></tr><tr><td>Value</td><td><details class=\"dni-treeview\"><summary><span class=\"dni-code-hint\"><code>Sparse vector of size 67785, 40 explicit values</code></span></summary><div><table><thead><tr></tr></thead><tbody><tr><td>IsDense</td><td><div class=\"dni-plaintext\"><pre>False</pre></div></td></tr><tr><td>Length</td><td><div class=\"dni-plaintext\"><pre>67785</pre></div></td></tr></tbody></table></div></details></td></tr></tbody></table></div></details></td></tr><tr><td>5</td><td><details class=\"dni-treeview\"><summary><span class=\"dni-code-hint\"><code>[PredictedLabel, 4]</code></span></summary><div><table><thead><tr></tr></thead><tbody><tr><td>Key</td><td>PredictedLabel</td></tr><tr><td>Value</td><td><div class=\"dni-plaintext\"><pre>4</pre></div></td></tr></tbody></table></div></details></td></tr><tr><td>6</td><td><details class=\"dni-treeview\"><summary><span class=\"dni-code-hint\"><code>[PredictedLabel, area-Infrastructure]</code></span></summary><div><table><thead><tr></tr></thead><tbody><tr><td>Key</td><td>PredictedLabel</td></tr><tr><td>Value</td><td><span>area-Infrastructure</span></td></tr></tbody></table></div></details></td></tr><tr><td>7</td><td><details class=\"dni-treeview\"><summary><span class=\"dni-code-hint\"><code>[Score, Dense vector of size 22]</code></span></summary><div><table><thead><tr></tr></thead><tbody><tr><td>Key</td><td>Score</td></tr><tr><td>Value</td><td><details class=\"dni-treeview\"><summary><span class=\"dni-code-hint\"><code>Dense vector of size 22</code></span></summary><div><table><thead><tr></tr></thead><tbody><tr><td>IsDense</td><td><div class=\"dni-plaintext\"><pre>True</pre></div></td></tr><tr><td>Length</td><td><div class=\"dni-plaintext\"><pre>22</pre></div></td></tr></tbody></table></div></details></td></tr></tbody></table></div></details></td></tr></tbody></table></td></tr></tbody></table></div></details></td></tr><tr><td>17</td><td><details class=\"dni-treeview\"><summary><span class=\"dni-code-hint\"><code>8 columns</code></span></summary><div><table><thead><tr></tr></thead><tbody><tr><td>Values</td><td><table><thead><tr><th><i>index</i></th><th>value</th></tr></thead><tbody><tr><td>0</td><td><details class=\"dni-treeview\"><summary><span class=\"dni-code-hint\"><code>[Area, area-System.Runtime]</code></span></summary><div><table><thead><tr></tr></thead><tbody><tr><td>Key</td><td>Area</td></tr><tr><td>Value</td><td><span>area-System.Runtime</span></td></tr></tbody></table></div></details></td></tr><tr><td>1</td><td><details class=\"dni-treeview\"><summary><span class=\"dni-code-hint\"><code>[Area, 14]</code></span></summary><div><table><thead><tr></tr></thead><tbody><tr><td>Key</td><td>Area</td></tr><tr><td>Value</td><td><div class=\"dni-plaintext\"><pre>14</pre></div></td></tr></tbody></table></div></details></td></tr><tr><td>2</td><td><details class=\"dni-treeview\"><summary><span class=\"dni-code-hint\"><code>[Title, Consider exposing extension methods for System.Array .Net 2 convenience methods]</code></span></summary><div><table><thead><tr></tr></thead><tbody><tr><td>Key</td><td>Title</td></tr><tr><td>Value</td><td><span>Consider exposing extension methods for System.Array .Net 2 convenience methods</span></td></tr></tbody></table></div></details></td></tr><tr><td>3</td><td><details class=\"dni-treeview\"><summary><span class=\"dni-code-hint\"><code>[Title, Sparse vector of size 67785, 82 explicit values]</code></span></summary><div><table><thead><tr></tr></thead><tbody><tr><td>Key</td><td>Title</td></tr><tr><td>Value</td><td><details class=\"dni-treeview\"><summary><span class=\"dni-code-hint\"><code>Sparse vector of size 67785, 82 explicit values</code></span></summary><div><table><thead><tr></tr></thead><tbody><tr><td>IsDense</td><td><div class=\"dni-plaintext\"><pre>False</pre></div></td></tr><tr><td>Length</td><td><div class=\"dni-plaintext\"><pre>67785</pre></div></td></tr></tbody></table></div></details></td></tr></tbody></table></div></details></td></tr><tr><td>4</td><td><details class=\"dni-treeview\"><summary><span class=\"dni-code-hint\"><code>[Features, Sparse vector of size 67785, 82 explicit values]</code></span></summary><div><table><thead><tr></tr></thead><tbody><tr><td>Key</td><td>Features</td></tr><tr><td>Value</td><td><details class=\"dni-treeview\"><summary><span class=\"dni-code-hint\"><code>Sparse vector of size 67785, 82 explicit values</code></span></summary><div><table><thead><tr></tr></thead><tbody><tr><td>IsDense</td><td><div class=\"dni-plaintext\"><pre>False</pre></div></td></tr><tr><td>Length</td><td><div class=\"dni-plaintext\"><pre>67785</pre></div></td></tr></tbody></table></div></details></td></tr></tbody></table></div></details></td></tr><tr><td>5</td><td><details class=\"dni-treeview\"><summary><span class=\"dni-code-hint\"><code>[PredictedLabel, 3]</code></span></summary><div><table><thead><tr></tr></thead><tbody><tr><td>Key</td><td>PredictedLabel</td></tr><tr><td>Value</td><td><div class=\"dni-plaintext\"><pre>3</pre></div></td></tr></tbody></table></div></details></td></tr><tr><td>6</td><td><details class=\"dni-treeview\"><summary><span class=\"dni-code-hint\"><code>[PredictedLabel, area-Meta]</code></span></summary><div><table><thead><tr></tr></thead><tbody><tr><td>Key</td><td>PredictedLabel</td></tr><tr><td>Value</td><td><span>area-Meta</span></td></tr></tbody></table></div></details></td></tr><tr><td>7</td><td><details class=\"dni-treeview\"><summary><span class=\"dni-code-hint\"><code>[Score, Dense vector of size 22]</code></span></summary><div><table><thead><tr></tr></thead><tbody><tr><td>Key</td><td>Score</td></tr><tr><td>Value</td><td><details class=\"dni-treeview\"><summary><span class=\"dni-code-hint\"><code>Dense vector of size 22</code></span></summary><div><table><thead><tr></tr></thead><tbody><tr><td>IsDense</td><td><div class=\"dni-plaintext\"><pre>True</pre></div></td></tr><tr><td>Length</td><td><div class=\"dni-plaintext\"><pre>22</pre></div></td></tr></tbody></table></div></details></td></tr></tbody></table></div></details></td></tr></tbody></table></td></tr></tbody></table></div></details></td></tr><tr><td>18</td><td><details class=\"dni-treeview\"><summary><span class=\"dni-code-hint\"><code>8 columns</code></span></summary><div><table><thead><tr></tr></thead><tbody><tr><td>Values</td><td><table><thead><tr><th><i>index</i></th><th>value</th></tr></thead><tbody><tr><td>0</td><td><details class=\"dni-treeview\"><summary><span class=\"dni-code-hint\"><code>[Area, area-System.Xml]</code></span></summary><div><table><thead><tr></tr></thead><tbody><tr><td>Key</td><td>Area</td></tr><tr><td>Value</td><td><span>area-System.Xml</span></td></tr></tbody></table></div></details></td></tr><tr><td>1</td><td><details class=\"dni-treeview\"><summary><span class=\"dni-code-hint\"><code>[Area, 1]</code></span></summary><div><table><thead><tr></tr></thead><tbody><tr><td>Key</td><td>Area</td></tr><tr><td>Value</td><td><div class=\"dni-plaintext\"><pre>1</pre></div></td></tr></tbody></table></div></details></td></tr><tr><td>2</td><td><details class=\"dni-treeview\"><summary><span class=\"dni-code-hint\"><code>[Title, Reformat Xml code]</code></span></summary><div><table><thead><tr></tr></thead><tbody><tr><td>Key</td><td>Title</td></tr><tr><td>Value</td><td><span>Reformat Xml code</span></td></tr></tbody></table></div></details></td></tr><tr><td>3</td><td><details class=\"dni-treeview\"><summary><span class=\"dni-code-hint\"><code>[Title, Sparse vector of size 67785, 20 explicit values]</code></span></summary><div><table><thead><tr></tr></thead><tbody><tr><td>Key</td><td>Title</td></tr><tr><td>Value</td><td><details class=\"dni-treeview\"><summary><span class=\"dni-code-hint\"><code>Sparse vector of size 67785, 20 explicit values</code></span></summary><div><table><thead><tr></tr></thead><tbody><tr><td>IsDense</td><td><div class=\"dni-plaintext\"><pre>False</pre></div></td></tr><tr><td>Length</td><td><div class=\"dni-plaintext\"><pre>67785</pre></div></td></tr></tbody></table></div></details></td></tr></tbody></table></div></details></td></tr><tr><td>4</td><td><details class=\"dni-treeview\"><summary><span class=\"dni-code-hint\"><code>[Features, Sparse vector of size 67785, 20 explicit values]</code></span></summary><div><table><thead><tr></tr></thead><tbody><tr><td>Key</td><td>Features</td></tr><tr><td>Value</td><td><details class=\"dni-treeview\"><summary><span class=\"dni-code-hint\"><code>Sparse vector of size 67785, 20 explicit values</code></span></summary><div><table><thead><tr></tr></thead><tbody><tr><td>IsDense</td><td><div class=\"dni-plaintext\"><pre>False</pre></div></td></tr><tr><td>Length</td><td><div class=\"dni-plaintext\"><pre>67785</pre></div></td></tr></tbody></table></div></details></td></tr></tbody></table></div></details></td></tr><tr><td>5</td><td><details class=\"dni-treeview\"><summary><span class=\"dni-code-hint\"><code>[PredictedLabel, 1]</code></span></summary><div><table><thead><tr></tr></thead><tbody><tr><td>Key</td><td>PredictedLabel</td></tr><tr><td>Value</td><td><div class=\"dni-plaintext\"><pre>1</pre></div></td></tr></tbody></table></div></details></td></tr><tr><td>6</td><td><details class=\"dni-treeview\"><summary><span class=\"dni-code-hint\"><code>[PredictedLabel, area-System.Xml]</code></span></summary><div><table><thead><tr></tr></thead><tbody><tr><td>Key</td><td>PredictedLabel</td></tr><tr><td>Value</td><td><span>area-System.Xml</span></td></tr></tbody></table></div></details></td></tr><tr><td>7</td><td><details class=\"dni-treeview\"><summary><span class=\"dni-code-hint\"><code>[Score, Dense vector of size 22]</code></span></summary><div><table><thead><tr></tr></thead><tbody><tr><td>Key</td><td>Score</td></tr><tr><td>Value</td><td><details class=\"dni-treeview\"><summary><span class=\"dni-code-hint\"><code>Dense vector of size 22</code></span></summary><div><table><thead><tr></tr></thead><tbody><tr><td>IsDense</td><td><div class=\"dni-plaintext\"><pre>True</pre></div></td></tr><tr><td>Length</td><td><div class=\"dni-plaintext\"><pre>22</pre></div></td></tr></tbody></table></div></details></td></tr></tbody></table></div></details></td></tr></tbody></table></td></tr></tbody></table></div></details></td></tr><tr><td>19</td><td><details class=\"dni-treeview\"><summary><span class=\"dni-code-hint\"><code>8 columns</code></span></summary><div><table><thead><tr></tr></thead><tbody><tr><td>Values</td><td><table><thead><tr><th><i>index</i></th><th>value</th></tr></thead><tbody><tr><td>0</td><td><details class=\"dni-treeview\"><summary><span class=\"dni-code-hint\"><code>[Area, area-System.Collections]</code></span></summary><div><table><thead><tr></tr></thead><tbody><tr><td>Key</td><td>Area</td></tr><tr><td>Value</td><td><span>area-System.Collections</span></td></tr></tbody></table></div></details></td></tr><tr><td>1</td><td><details class=\"dni-treeview\"><summary><span class=\"dni-code-hint\"><code>[Area, 9]</code></span></summary><div><table><thead><tr></tr></thead><tbody><tr><td>Key</td><td>Area</td></tr><tr><td>Value</td><td><div class=\"dni-plaintext\"><pre>9</pre></div></td></tr></tbody></table></div></details></td></tr><tr><td>2</td><td><details class=\"dni-treeview\"><summary><span class=\"dni-code-hint\"><code>[Title, Specification tests for collection interfaces]</code></span></summary><div><table><thead><tr></tr></thead><tbody><tr><td>Key</td><td>Title</td></tr><tr><td>Value</td><td><span>Specification tests for collection interfaces</span></td></tr></tbody></table></div></details></td></tr><tr><td>3</td><td><details class=\"dni-treeview\"><summary><span class=\"dni-code-hint\"><code>[Title, Sparse vector of size 67785, 50 explicit values]</code></span></summary><div><table><thead><tr></tr></thead><tbody><tr><td>Key</td><td>Title</td></tr><tr><td>Value</td><td><details class=\"dni-treeview\"><summary><span class=\"dni-code-hint\"><code>Sparse vector of size 67785, 50 explicit values</code></span></summary><div><table><thead><tr></tr></thead><tbody><tr><td>IsDense</td><td><div class=\"dni-plaintext\"><pre>False</pre></div></td></tr><tr><td>Length</td><td><div class=\"dni-plaintext\"><pre>67785</pre></div></td></tr></tbody></table></div></details></td></tr></tbody></table></div></details></td></tr><tr><td>4</td><td><details class=\"dni-treeview\"><summary><span class=\"dni-code-hint\"><code>[Features, Sparse vector of size 67785, 50 explicit values]</code></span></summary><div><table><thead><tr></tr></thead><tbody><tr><td>Key</td><td>Features</td></tr><tr><td>Value</td><td><details class=\"dni-treeview\"><summary><span class=\"dni-code-hint\"><code>Sparse vector of size 67785, 50 explicit values</code></span></summary><div><table><thead><tr></tr></thead><tbody><tr><td>IsDense</td><td><div class=\"dni-plaintext\"><pre>False</pre></div></td></tr><tr><td>Length</td><td><div class=\"dni-plaintext\"><pre>67785</pre></div></td></tr></tbody></table></div></details></td></tr></tbody></table></div></details></td></tr><tr><td>5</td><td><details class=\"dni-treeview\"><summary><span class=\"dni-code-hint\"><code>[PredictedLabel, 17]</code></span></summary><div><table><thead><tr></tr></thead><tbody><tr><td>Key</td><td>PredictedLabel</td></tr><tr><td>Value</td><td><div class=\"dni-plaintext\"><pre>17</pre></div></td></tr></tbody></table></div></details></td></tr><tr><td>6</td><td><details class=\"dni-treeview\"><summary><span class=\"dni-code-hint\"><code>[PredictedLabel, area-System.Net]</code></span></summary><div><table><thead><tr></tr></thead><tbody><tr><td>Key</td><td>PredictedLabel</td></tr><tr><td>Value</td><td><span>area-System.Net</span></td></tr></tbody></table></div></details></td></tr><tr><td>7</td><td><details class=\"dni-treeview\"><summary><span class=\"dni-code-hint\"><code>[Score, Dense vector of size 22]</code></span></summary><div><table><thead><tr></tr></thead><tbody><tr><td>Key</td><td>Score</td></tr><tr><td>Value</td><td><details class=\"dni-treeview\"><summary><span class=\"dni-code-hint\"><code>Dense vector of size 22</code></span></summary><div><table><thead><tr></tr></thead><tbody><tr><td>IsDense</td><td><div class=\"dni-plaintext\"><pre>True</pre></div></td></tr><tr><td>Length</td><td><div class=\"dni-plaintext\"><pre>22</pre></div></td></tr></tbody></table></div></details></td></tr></tbody></table></div></details></td></tr></tbody></table></td></tr></tbody></table></div></details></td></tr><tr><td colspan=\"2\"><i>(80 more)</i></td></tr></tbody></table><style>\r\n",
       ".dni-code-hint {\r\n",
       "    font-style: italic;\r\n",
       "    overflow: hidden;\r\n",
       "    white-space: nowrap;\r\n",
       "}\r\n",
       ".dni-treeview {\r\n",
       "    white-space: nowrap;\r\n",
       "}\r\n",
       ".dni-treeview td {\r\n",
       "    vertical-align: top;\r\n",
       "    text-align: start;\r\n",
       "}\r\n",
       "details.dni-treeview {\r\n",
       "    padding-left: 1em;\r\n",
       "}\r\n",
       "table td {\r\n",
       "    text-align: start;\r\n",
       "}\r\n",
       "table tr { \r\n",
       "    vertical-align: top; \r\n",
       "    margin: 0em 0px;\r\n",
       "}\r\n",
       "table tr td pre \r\n",
       "{ \r\n",
       "    vertical-align: top !important; \r\n",
       "    margin: 0em 0px !important;\r\n",
       "} \r\n",
       "table th {\r\n",
       "    text-align: start;\r\n",
       "}\r\n",
       "</style>"
      ]
     },
     "metadata": {},
     "output_type": "display_data"
    }
   ],
   "source": [
    "predictions.Preview().RowView"
   ]
  },
  {
   "cell_type": "markdown",
   "metadata": {},
   "source": [
    "## Save the best model"
   ]
  },
  {
   "cell_type": "code",
   "execution_count": 38,
   "metadata": {
    "dotnet_interactive": {
     "language": "csharp"
    },
    "polyglot_notebook": {
     "kernelName": "csharp"
    },
    "vscode": {
     "languageId": "polyglot-notebook"
    }
   },
   "outputs": [],
   "source": [
    "ctx.Model.Save(bestModel, data.Schema, \"model.mlnet\");"
   ]
  }
 ],
 "metadata": {
  "language_info": {
   "name": "csharp"
  },
  "orig_nbformat": 4
 },
 "nbformat": 4,
 "nbformat_minor": 2
}
